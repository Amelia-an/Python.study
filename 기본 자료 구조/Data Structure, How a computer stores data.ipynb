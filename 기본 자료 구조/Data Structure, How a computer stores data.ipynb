{
 "cells": [
  {
   "attachments": {},
   "cell_type": "markdown",
   "metadata": {},
   "source": [
    "# ❗️자료구조란 무엇일까?\n",
    "✅ 자료구조란 여러 데이터들의 묶음을 저장하고, 사용하는 방법을 정의"
   ]
  },
  {
   "attachments": {},
   "cell_type": "markdown",
   "metadata": {},
   "source": [
    "# ❗️자료구조를 배우는 이유\n",
    "✅ 데이터를 체계적으로 저장하고, 효율적으로 활용하기 위해서 자료구조를 사용한다.\n",
    "\n",
    "✅ 대부분의 자료구조는 특정한 상황에 놓인 문제를 해결하는 데에 특화되어 있다.\n",
    "\n",
    "많은 자료구조를 알아두면, 특정 문제를 해결하는 데에 상황에 가장 적합한 자료구조를 빠르게 찾아 데이터를 정리하고 활용하여문제를 빠르고 정확하게 해결할 수 있다.\n",
    "\n",
    "이것은 문제 해결 능력을 필요로하는 알고리즘과 굉장히 밀접한 연관성이 있다.\n",
    "결국 문제해결을 하기 위해서 배운다."
   ]
  },
  {
   "attachments": {},
   "cell_type": "markdown",
   "metadata": {},
   "source": [
    "### 자료 구조의 목적 \n",
    "자료를 구조화 -> 데이터를 효율적 사용\n",
    "\n",
    "### 스토리지 -> 데이터를 영구적으로 저장 (창고)\n",
    "* 데이터를 저장하는 데 오래 걸림\n",
    "* 데이터를 받아오는 데 오래 걸림\n",
    "\n",
    "### 메모리 -> 데이터가 임시로 저장되는 곳 (책상 서랍) O(n)\n",
    "* 데이터 저장하는 데 빠름\n",
    "* 데이터를 받아오는 데 빠름\n",
    "\n",
    "* 메모리는 하나의 긴 띠\n",
    "> 1. 일정한 칸으로 나눠져 있고\n",
    "> 2. 각 칸에 데이터를 저장할 수 있고\n",
    "> 3. 각 칸은 자신만의 주소가 있습니다\n",
    "\n",
    "* 바이트는 컴퓨터 저장 공간 용량을 나타내는 단위다.\n",
    "* 메모리 한 칸에 담기는 데이터 용량은 1 바이트다.\n",
    "\n",
    "<img src = \"https://bakey-api.codeit.kr/files/2173/UnPkYz?name%3D1.png\" width =\"800\" height = \"200\"/>\n"
   ]
  },
  {
   "attachments": {},
   "cell_type": "markdown",
   "metadata": {},
   "source": [
    "### 자료구조의 종류와 구분\n",
    "무수한 상황에서 데이터를 효율적으로 다룰 수 있는 방법을 모두 모아, 자료구조라는 이름을 붙임\n",
    "\n",
    "### 👉 자주 등장하는 네 가지의 자료구조\n",
    "* Stack, Queue, Tree, Graph\n",
    "\n",
    "<img src=\"https://hanamon.kr/%EC%9E%90%EB%A3%8C%EA%B5%AC%EC%A1%B0%EB%9E%80-%EC%9E%90%EB%A3%8C%EA%B5%AC%EC%A1%B0%EB%A5%BC-%EB%B0%B0%EC%9A%B0%EB%8A%94-%EC%9D%B4%EC%9C%A0/%E1%84%8C%E1%85%A1%E1%84%85%E1%85%AD%E1%84%80%E1%85%AE%E1%84%8C%E1%85%A9-%E1%84%8C%E1%85%A9%E1%86%BC%E1%84%85%E1%85%B2/\" width=\"800\" height=\"500\"/>\n",
    "\n"
   ]
  },
  {
   "cell_type": "code",
   "execution_count": 2,
   "metadata": {},
   "outputs": [
    {
     "name": "stdout",
     "output_type": "stream",
     "text": [
      "2284249050816\n",
      "2284165359888\n",
      "2284248990192\n",
      "2284248492960\n",
      "2284248419648\n"
     ]
    }
   ],
   "source": [
    "# id라는 함수를 이용하여 저장한 데이터의 메모리 주소를 정수로 표현한 값을 알아낼 수 있음\n",
    "\n",
    "# 여러 타입의 데이터 저장\n",
    "list1 = [1, 2]\n",
    "int1 = 0\n",
    "float1 = 3.14 \n",
    "set1 = set()\n",
    "tuple1 = (2, 3)\n",
    "\n",
    "print(id(list1))\n",
    "print(id(int1))\n",
    "print(id(float1))\n",
    "print(id(set1))\n",
    "print(id(tuple1))"
   ]
  },
  {
   "cell_type": "markdown",
   "metadata": {},
   "source": []
  }
 ],
 "metadata": {
  "kernelspec": {
   "display_name": "base",
   "language": "python",
   "name": "python3"
  },
  "language_info": {
   "codemirror_mode": {
    "name": "ipython",
    "version": 3
   },
   "file_extension": ".py",
   "mimetype": "text/x-python",
   "name": "python",
   "nbconvert_exporter": "python",
   "pygments_lexer": "ipython3",
   "version": "3.9.13"
  },
  "orig_nbformat": 4
 },
 "nbformat": 4,
 "nbformat_minor": 2
}
