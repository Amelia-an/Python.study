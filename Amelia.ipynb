{
 "cells": [
  {
   "attachments": {},
   "cell_type": "markdown",
   "metadata": {},
   "source": [
    "\n",
    "# ----------Algorithm Introduction (03/03)------------\n",
    "\n",
    "# 알고리즘이란?\n",
    "\n",
    "**\"어떠한 문제를 해결하기 위한 여러 동작들의 모임\"**\n",
    "-> 어떤 일을 해결하려는 방법과 절차\n",
    "\n",
    "알고리즘은 유한성을 가지며, 언젠가는 끝나야 하는 속성을 지님\n",
    "수학과 컴퓨터 과학에서 알고리즘이란 작동이 일어나게 하는 내재하는 단계적 집합\n",
    "연산, 데이터 진행 또는 자동화된 추론\n",
    "\n",
    "$$\n",
    "**알고리즘 조건**\n",
    "$$\n",
    "$$\n",
    "-입력: 외부에서 제공되는 자료가 0개 이상 존재\n",
    "$$\n",
    "$$\n",
    "-출력: 적어도 2개 이상의 서로 다른 결과를 내어야 함\n",
    "$$\n",
    "$$\n",
    "-명확성: 수행과정은 무엇을 하기위한 것인지 명확하게 정의\n",
    "$$\n",
    "$$\n",
    "-유한성: 알고리즘의 명령대로 수행했을 때 처리된 후 종료\n",
    "$$\n",
    "$$\n",
    "-효율성: 모든 과정은 명백하게 실행가능한 것이어야 함, 시간적 공간적 효율성을 지녀야 함\n",
    "$$\n"
   ]
  },
  {
   "attachments": {},
   "cell_type": "markdown",
   "metadata": {},
   "source": [
    "# 팔린드롬(PALINDROME)\n",
    "\n",
    "\"토마토\"나 \"기러기\" 처럼 거꾸로 읽어도 똑같은 단어를 팔린드롬이라고 부릅니다.\n",
    "문자열 word가 팔린드롬인지 확인하는 람수 is_palindrome 를 쓰세요.\n",
    "is_palindrome은 word가 팔린드롬이면 True를 아니면 False를 리턴합니다.\n"
   ]
  },
  {
   "cell_type": "code",
   "execution_count": 1,
   "metadata": {},
   "outputs": [
    {
     "name": "stdout",
     "output_type": "stream",
     "text": [
      "True\n",
      "False\n",
      "True\n",
      "True\n"
     ]
    }
   ],
   "source": [
    "def is_palindrome(word):\n",
    "\n",
    "    list_word = list(word)\n",
    "    for i in range(len(word)//2):\n",
    "        if list_word[i] == list_word[-i-1]:\n",
    "            continue\n",
    "        else:\n",
    "            return False\n",
    "    return True\n",
    "\n",
    "print(is_palindrome(\"racecar\"))\n",
    "print(is_palindrome(\"stars\"))\n",
    "print(is_palindrome(\"토마토\"))\n",
    "print(is_palindrome(\"kayak\"))\n"
   ]
  },
  {
   "attachments": {},
   "cell_type": "markdown",
   "metadata": {},
   "source": [
    "# 선형 탐색 구현해보기 \n",
    "선형탐색(Linear Search) 알고리즘을 사용해서 어떤 원소가 리스트 안에 포함되어 있는지 확인하려고 합니다.\n",
    "선형탐색이란, 리스트의 처음부터 끝까지 순서대로 하나씩 탐색을 진행하는 알고리즘입니다.\n",
    "\n",
    "파라미터로 탐색할 값 element와 리스트some_list 를 받는 함수 linear_search 를 작성하시오\n",
    "0번 인덱스부터 순서대로 하나씩 확인해서 만약 element를 some_list 에서 발견할 시 그 위치(인덱스)를 리턴해 주면 됩니다.\n",
    "\n",
    "element가 some_list 에 존재하지 않는 값이면 None을 리턴해주세요."
   ]
  },
  {
   "cell_type": "code",
   "execution_count": 2,
   "metadata": {},
   "outputs": [
    {
     "name": "stdout",
     "output_type": "stream",
     "text": [
      "0\n",
      "None\n",
      "2\n",
      "1\n",
      "4\n"
     ]
    }
   ],
   "source": [
    "def linear_search(element, some_list):\n",
    "    for i in range(len(some_list)):\n",
    "        if some_list[i] == element:\n",
    "            return i \n",
    "    return None\n",
    "    \n",
    "print(linear_search(2, [2, 3, 5, 7, 11]))\n",
    "print(linear_search(0, [2, 3, 5, 7, 11]))\n",
    "print(linear_search(5, [2, 3, 5, 7, 11]))\n",
    "print(linear_search(3, [2, 3, 5, 7, 11]))\n",
    "print(linear_search(11, [2, 3, 5, 7, 11]))\n"
   ]
  },
  {
   "attachments": {},
   "cell_type": "markdown",
   "metadata": {},
   "source": [
    "# 이진 탐색 구현해보기\n",
    "‘이진 탐색(Binary Search)’ 알고리즘을 사용해서 어떤 원소가 리스트 안에 포함되어 있는지 확인하려고 합니다. 이진 탐색 알고리즘은 선형 탐색 알고리즘과 달리, 정렬된 리스트를 전제로 합니다. 정렬된 리스트가 아니면 이 알고리즘은 적용이 불가능합니다.\n",
    "\n",
    "왜 이 알고리즘의 이름이 ‘이진 탐색’일까요? 1회 비교를 거칠 때마다 탐색 범위가 (대략) 절반으로 줄어들기 때문입니다.\n",
    "\n",
    "예를 들어 [1, 2, 3, 5, 8, 13, 21, 34, 55]에서 3을 찾는 경우, 알고리즘의 진행 방식은 다음과 같습니다:\n",
    "\n",
    "\n",
    "$$\n",
    "● 시도 1\n",
    "$$\n",
    "리스트의 첫 번째 인덱스와 마지막 인덱스의 값을 합하여 2로 나눈 후, 중간 인덱스로 지정합니다. 그리고 그 인덱스에 해당하는 값이 3인지 확인해 봅니다.\n",
    "\n",
    "이 경우 리스트의 첫 번째 인덱스는 0이고 마지막 인덱스는 8이기 때문에, 중간 인덱스는 4이고 해당 원소는 8입니다.\n",
    "찾고자 하는 원소(3)는 중간 원소(8)에 비해 작습니다. 리스트는 정렬되어 있으니, 이제 인덱스 4~8은 탐색 범위에서 제외시킬 수 있습니다. 탐색 범위가 절반으로 줄어든 것이죠.\n",
    "\n",
    "\n",
    "\n",
    "$$\n",
    "● 시도 2\n",
    "$$\n",
    "탐색 범위는 이제 인덱스 0~3입니다. 탐색 범위의 첫 번째 인덱스는 0이고 마지막 인덱스는 3이기 때문에, 중간 인덱스는 (0 + 3) // 2인 1입니다. 인덱스 1에 해당하는 원소는 2이죠.\n",
    "\n",
    "찾고자 하는 원소(3)는 중간 원소(2)에 비해 큽니다. 리스트는 정렬되어 있으니, 이제 인덱스 0~1은 탐색 범위에서 제외시키면 됩니다. 탐색 범위가 다시 절반으로 줄어든 것이죠.\n",
    "\n",
    "\n",
    "\n",
    "$$\n",
    "● 시도 3\n",
    "$$\n",
    "탐색 범위는 이제 인덱스 2~3입니다. 탐색 범위의 리스트의 첫 번째 인덱스는 2이고 마지막 인덱스는 3이므로, 중간 인덱스는 (2 + 3) // 2인 2입니다. 인덱스 2에 해당하는 원소의 값은 3이죠.\n",
    "\n",
    "찾고자 하는 원소(3)는 중간에 해당하는 원소(3)와 일치합니다. 값을 찾았으니, 인덱스 2를 리턴해 주며, 알고리즘을 종료합니다.\n"
   ]
  },
  {
   "cell_type": "code",
   "execution_count": 3,
   "metadata": {},
   "outputs": [
    {
     "name": "stdout",
     "output_type": "stream",
     "text": [
      "0\n",
      "None\n",
      "2\n",
      "1\n",
      "4\n"
     ]
    }
   ],
   "source": [
    "def binary_search(element, some_list):\n",
    "    start_index = 0\n",
    "    end_index = len(some_list) - 1\n",
    "        \n",
    "    while start_index <= end_index:\n",
    "        midpoint = (start_index + end_index) // 2\n",
    "\n",
    "        if some_list[midpoint] == element: \n",
    "            return midpoint\n",
    "        elif some_list[midpoint] > element: #element 가 중간값보다 작으면(크면), 오른쪽(왼쪽) 반은 더 이상 볼 필요가 없다.\n",
    "            end_index = midpoint - 1\n",
    "        else:\n",
    "            start_index = midpoint + 1\n",
    "    return None\n",
    "\n",
    "\n",
    "print(binary_search(2, [2, 3, 5, 7, 11]))\n",
    "print(binary_search(0, [2, 3, 5, 7, 11]))\n",
    "print(binary_search(5, [2, 3, 5, 7, 11]))\n",
    "print(binary_search(3, [2, 3, 5, 7, 11]))\n",
    "print(binary_search(11, [2, 3, 5, 7, 11]))\n"
   ]
  },
  {
   "attachments": {},
   "cell_type": "markdown",
   "metadata": {},
   "source": [
    "# 정렬(sorting)\n",
    "-특정한 기준에 따라 데이터를 늘어놓는 알고리즘"
   ]
  },
  {
   "attachments": {},
   "cell_type": "markdown",
   "metadata": {},
   "source": [
    "\n",
    "$$\n",
    "버블 정렬(Bubble Sort)\n",
    "$$\n",
    "$$\n",
    "-버블 정렬은 바로 옆에 있는 것과 비교해서 정렬하는 것입니다. 구현은 쉽지만 효율성이 매우 낮음\n",
    "$$\n",
    "\n",
    "$$\n",
    "선택 정렬(Selection Sort)\n",
    "$$\n",
    "$$\n",
    "-데이터를 선택 정렬은 배열에서 작은 데이터를 선별하여서 데이터를 앞으로 보내는 정렬의 일종입니다. 효율이 낮음\n",
    "$$\n",
    "\n",
    "$$\n",
    "삽입 정렬(Insertion Sort)\n",
    "$$\n",
    "$$\n",
    "-삽입 정렬은 자료 배열의 모든 요소를 앞에서부터 차례대로 이미 정렬된 배열 부분과 비교하여, 자신의 위치를 찾아 삽입함으로써 정렬을 완성하는 알고리즘\n",
    "\n",
    "$$\n",
    "$$\n",
    "퀵 정렬(Quick Sort)\n",
    "$$\n",
    "$$\n",
    "-퀵 정렬은 찰스 앤터니 리처드 호어가 개발한 정렬 알고리즘이다. 다른 원소와의 비교만으로 정렬을 수행하는 비교 정렬에 속한다. 퀵 정렬은 n개의 데이터를 정렬할 때, 최악의 경우에는 O(n²)번의 비교를 수행하고, 평균적으로 O(n log n)번의 비교를 수행함\n",
    "$$\n",
    "\n",
    "$$\n",
    "병합 정렬(Merge Sort)\n",
    "$$\n",
    "$$\n",
    "-합병 정렬 또는 병합 정렬은 O(n log n) 비교 기반 정렬 알고리즘, 일반적인 방법으로 구현했을 때 이 정렬은 안정 정렬에 속하며, 분할 정복 알고리즘의 하나\n",
    "$$\n",
    "\n",
    "$$\n",
    "힙 정렬(Heap Sort)\n",
    "$$\n",
    "$$\n",
    "-힙 정렬이란 최대 힙 트리나 최소 힙 트리를 구성해 정렬을 하는 방법으로서, 내림차순 정렬을 위해서는 최소 힙을 구성하고 오름차순 정렬을 위해서는 최대 힙을 구성하면됨\n",
    "\n",
    "$$\n",
    "$$\n",
    "기수 정렬(Radix Sort)\n",
    "$$\n",
    "$$\n",
    "-기수 정렬은 기수 별로 비교 없이 수행하는 정렬 알고리즘 기수로는 정수, 낱말, 천공카드 등 다양한 자료를 사용할 수 있으나 크기가 유한하고 사전순으로 정렬할 수 있어야 한다. 버킷 정렬의 일종으로 취급되기도함.\n",
    "\n",
    "$$\n",
    "$$\n",
    "계수 정렬(Count Sort)\n",
    "$$\n",
    "$$\n",
    "-계수 정렬 또는 카운팅 소트는 컴퓨터 과학에서 정렬 알고리즘의 하나로서, 작은 양의 정수들인 키에 따라 객체를 수집하는 것, 즉 정수 정렬 알고리즘의 하나\n",
    "$$\n"
   ]
  },
  {
   "cell_type": "code",
   "execution_count": 4,
   "metadata": {},
   "outputs": [
    {
     "name": "stdout",
     "output_type": "stream",
     "text": [
      "Original array:  [8, 4, 3, 5, 9, 6, 0, 7, 1, 2]\n",
      "Bubble sort:  [0, 1, 2, 3, 4, 5, 6, 7, 8, 9]\n",
      "Selection sort:  [0, 1, 2, 3, 4, 5, 6, 7, 8, 9]\n"
     ]
    },
    {
     "ename": "NameError",
     "evalue": "name 'quick_sort' is not defined",
     "output_type": "error",
     "traceback": [
      "\u001b[1;31m---------------------------------------------------------------------------\u001b[0m",
      "\u001b[1;31mNameError\u001b[0m                                 Traceback (most recent call last)",
      "\u001b[1;32m~\\AppData\\Local\\Temp\\ipykernel_14208\\1466102381.py\u001b[0m in \u001b[0;36m<module>\u001b[1;34m\u001b[0m\n\u001b[0;32m    137\u001b[0m \u001b[0mprint\u001b[0m\u001b[1;33m(\u001b[0m\u001b[1;34m\"Bubble sort: \"\u001b[0m\u001b[1;33m,\u001b[0m \u001b[0mSort\u001b[0m\u001b[1;33m.\u001b[0m\u001b[0mbubble_sort\u001b[0m\u001b[1;33m(\u001b[0m\u001b[0marr\u001b[0m\u001b[1;33m)\u001b[0m\u001b[1;33m)\u001b[0m\u001b[1;33m\u001b[0m\u001b[1;33m\u001b[0m\u001b[0m\n\u001b[0;32m    138\u001b[0m \u001b[0mprint\u001b[0m\u001b[1;33m(\u001b[0m\u001b[1;34m\"Selection sort: \"\u001b[0m\u001b[1;33m,\u001b[0m \u001b[0mSort\u001b[0m\u001b[1;33m.\u001b[0m\u001b[0mselection_sort\u001b[0m\u001b[1;33m(\u001b[0m\u001b[0marr\u001b[0m\u001b[1;33m)\u001b[0m\u001b[1;33m)\u001b[0m\u001b[1;33m\u001b[0m\u001b[1;33m\u001b[0m\u001b[0m\n\u001b[1;32m--> 139\u001b[1;33m \u001b[0mprint\u001b[0m\u001b[1;33m(\u001b[0m\u001b[1;34m\"Quick sort: \"\u001b[0m\u001b[1;33m,\u001b[0m \u001b[0mSort\u001b[0m\u001b[1;33m.\u001b[0m\u001b[0mquick_sort\u001b[0m\u001b[1;33m(\u001b[0m\u001b[0marr\u001b[0m\u001b[1;33m)\u001b[0m\u001b[1;33m)\u001b[0m\u001b[1;33m\u001b[0m\u001b[1;33m\u001b[0m\u001b[0m\n\u001b[0m\u001b[0;32m    140\u001b[0m \u001b[0mprint\u001b[0m\u001b[1;33m(\u001b[0m\u001b[1;34m\"Merge sort: \"\u001b[0m\u001b[1;33m,\u001b[0m \u001b[0mSort\u001b[0m\u001b[1;33m.\u001b[0m\u001b[0mmerge_sort\u001b[0m\u001b[1;33m(\u001b[0m\u001b[0marr\u001b[0m\u001b[1;33m)\u001b[0m\u001b[1;33m)\u001b[0m\u001b[1;33m\u001b[0m\u001b[1;33m\u001b[0m\u001b[0m\n\u001b[0;32m    141\u001b[0m \u001b[0mprint\u001b[0m\u001b[1;33m(\u001b[0m\u001b[1;34m\"Heap sort: \"\u001b[0m\u001b[1;33m,\u001b[0m \u001b[0mSort\u001b[0m\u001b[1;33m.\u001b[0m\u001b[0mheap_sort\u001b[0m\u001b[1;33m(\u001b[0m\u001b[0marr\u001b[0m\u001b[1;33m)\u001b[0m\u001b[1;33m)\u001b[0m\u001b[1;33m\u001b[0m\u001b[1;33m\u001b[0m\u001b[0m\n",
      "\u001b[1;32m~\\AppData\\Local\\Temp\\ipykernel_14208\\1466102381.py\u001b[0m in \u001b[0;36mquick_sort\u001b[1;34m(arr)\u001b[0m\n\u001b[0;32m     32\u001b[0m             \u001b[1;32melse\u001b[0m\u001b[1;33m:\u001b[0m\u001b[1;33m\u001b[0m\u001b[1;33m\u001b[0m\u001b[0m\n\u001b[0;32m     33\u001b[0m                 \u001b[0mequal\u001b[0m\u001b[1;33m.\u001b[0m\u001b[0mappend\u001b[0m\u001b[1;33m(\u001b[0m\u001b[0mi\u001b[0m\u001b[1;33m)\u001b[0m\u001b[1;33m\u001b[0m\u001b[1;33m\u001b[0m\u001b[0m\n\u001b[1;32m---> 34\u001b[1;33m         \u001b[1;32mreturn\u001b[0m \u001b[0mquick_sort\u001b[0m\u001b[1;33m(\u001b[0m\u001b[0mleft\u001b[0m\u001b[1;33m)\u001b[0m \u001b[1;33m+\u001b[0m \u001b[0mequal\u001b[0m \u001b[1;33m+\u001b[0m \u001b[0mquick_sort\u001b[0m\u001b[1;33m(\u001b[0m\u001b[0mright\u001b[0m\u001b[1;33m)\u001b[0m\u001b[1;33m\u001b[0m\u001b[1;33m\u001b[0m\u001b[0m\n\u001b[0m\u001b[0;32m     35\u001b[0m \u001b[1;33m\u001b[0m\u001b[0m\n\u001b[0;32m     36\u001b[0m \u001b[1;33m\u001b[0m\u001b[0m\n",
      "\u001b[1;31mNameError\u001b[0m: name 'quick_sort' is not defined"
     ]
    }
   ],
   "source": [
    "import random\n",
    "\n",
    "class Sort :\n",
    "    def bubble_sort(arr):\n",
    "        for i in range(len(arr)):\n",
    "            for j in range(len(arr) - i - 1):\n",
    "                if arr[j] > arr[j+1]:\n",
    "                    arr[j], arr[j+1] = arr[j+1], arr[j]\n",
    "        return arr\n",
    "\n",
    "\n",
    "    def selection_sort(arr):\n",
    "        for i in range(len(arr)):\n",
    "            min_index = i\n",
    "            for j in range(i+1, len(arr)):\n",
    "                if arr[min_index] > arr[j]:\n",
    "                    min_index = j\n",
    "            arr[i], arr[min_index] = arr[min_index], arr[i]\n",
    "        return arr\n",
    "\n",
    "\n",
    "    def quick_sort(arr):\n",
    "        if len(arr) <= 1:\n",
    "            return arr\n",
    "        pivot = arr[len(arr) // 2]\n",
    "        left, right, equal = [], [], []\n",
    "        for i in arr:\n",
    "            if i < pivot:\n",
    "                left.append(i)\n",
    "            elif i > pivot:\n",
    "                right.append(i)\n",
    "            else:\n",
    "                equal.append(i)\n",
    "        return quick_sort(left) + equal + quick_sort(right)\n",
    "\n",
    "\n",
    "    def merge_sort(arr):\n",
    "        if len(arr) < 2:\n",
    "            return arr\n",
    "        \n",
    "        mid = len(arr) // 2\n",
    "        left = merge_sort(arr[:mid])\n",
    "        right = merge_sort(arr[mid:])\n",
    "\n",
    "        merged_arr = []\n",
    "        l = r = 0\n",
    "        while l < len(left) and r < len(right):\n",
    "            if left[l] < right[r]:\n",
    "                merged_arr.append(left[l])\n",
    "                l += 1\n",
    "            else:\n",
    "                merged_arr.append(right[r])\n",
    "                r += 1\n",
    "\n",
    "        merged_arr += left[l:]\n",
    "        merged_arr += right[r:]\n",
    "        return merged_arr\n",
    "\n",
    "\n",
    "    def heap_sort(arr):\n",
    "        def heapify(arr, n, i):\n",
    "            largest = i\n",
    "            l = 2 * i + 1\n",
    "            r = 2 * i + 2\n",
    "\n",
    "            if l < n and arr[i] < arr[l]:\n",
    "                largest = l\n",
    "\n",
    "            if r < n and arr[largest] < arr[r]:\n",
    "                largest = r\n",
    "\n",
    "            if largest != i:\n",
    "                arr[i], arr[largest] = arr[largest], arr[i]\n",
    "                heapify(arr, n, largest)\n",
    "\n",
    "        n = len(arr)\n",
    "        for i in range(n, -1, -1):\n",
    "            heapify(arr, n, i)\n",
    "\n",
    "        for i in range(n-1, 0, -1):\n",
    "            arr[i], arr[0] = arr[0], arr[i]\n",
    "            heapify(arr, i, 0)\n",
    "\n",
    "        return arr\n",
    "\n",
    "\n",
    "\n",
    "    def radix_sort(arr):\n",
    "        RADIX = 10\n",
    "        placement = 1\n",
    "\n",
    "        max_digit = max(arr)\n",
    "\n",
    "        while placement < max_digit:\n",
    "            buckets = [list() for _ in range(RADIX)]\n",
    "\n",
    "            for i in arr:\n",
    "                tmp = int((i / placement) % RADIX)\n",
    "                buckets[tmp].append(i)\n",
    "\n",
    "            a = 0\n",
    "            for b in range(RADIX):\n",
    "                buck = buckets[b]\n",
    "                for i in buck:\n",
    "                    arr[a] = i\n",
    "                    a += 1\n",
    "\n",
    "            placement *= RADIX\n",
    "\n",
    "        return arr\n",
    "\n",
    "\n",
    "    def counting_sort(arr):\n",
    "        max_value = max(arr)\n",
    "        m = max_value + 1\n",
    "        count = [0] * m\n",
    "\n",
    "        for a in arr:\n",
    "            count[a] += 1\n",
    "\n",
    "        i = 0\n",
    "        for a in range(m):\n",
    "            for c in range(count[a]):\n",
    "                arr[i] = a\n",
    "                i += 1\n",
    "        return arr\n",
    "\n",
    "\n",
    "arr = [i for i in random.sample(range(10), 10)]\n",
    "\n",
    "\n",
    "\n",
    "\n",
    "\n",
    "\n",
    "print(\"Original array: \", arr)\n",
    "print(\"Bubble sort: \", Sort.bubble_sort(arr))\n",
    "print(\"Selection sort: \", Sort.selection_sort(arr))\n",
    "print(\"Quick sort: \", Sort.quick_sort(arr))\n",
    "print(\"Merge sort: \", Sort.merge_sort(arr))\n",
    "print(\"Heap sort: \", Sort.heap_sort(arr))\n",
    "print(\"Radix sort: \", Sort.radix_sort(arr))\n",
    "print(\"Counting sort: \", Sort.counting_sort(arr))"
   ]
  },
  {
   "attachments": {},
   "cell_type": "markdown",
   "metadata": {},
   "source": [
    "# --------------Brute Force, Divide and Conquer(03/14)----------------\n",
    "\n",
    "# 카드 뭉치 최대 조합\n",
    "\n",
    "카드 두 뭉치가 있습니다.\n",
    "\n",
    "왼쪽 뭉치에서 카드를 하나 뽑고 오른쪽 뭉치에서 카드를 하나 뽑아서, 두 수의 곱이 가장 크게 만들고 싶은데요. 어떻게 하면 가장 큰 곱을 구할 수 있을까요?\n",
    "\n",
    "함수 max_product는 리스트 left_cards와 리스트 right_cards를 파라미터로 받습니다.\n",
    "\n",
    "left_cards는 왼쪽 카드 뭉치의 숫자들, right_cards는 오른쪽 카드 뭉치 숫자들이 담겨 있고, max_product는 left_cards에서 카드 하나와 right_cards에서 카드 하나를 뽑아서 곱했을 때 그 값이 최대가 되는 값을 리턴합니다."
   ]
  },
  {
   "cell_type": "code",
   "execution_count": null,
   "metadata": {},
   "outputs": [
    {
     "name": "stdout",
     "output_type": "stream",
     "text": [
      "24\n",
      "32\n",
      "28\n"
     ]
    }
   ],
   "source": [
    "def max_product(left_cards, right_cards):\n",
    "    # 현재까지 최댓값을 담기 위한 변수\n",
    "    # 처음에는 임시로 각 리스트의 첫 번째 요소의 곱으로 설정\n",
    "    max_product = left_cards[0] * right_cards[0]\n",
    "    \n",
    "    # 가능한 모든 조합을 보기 위한 중첩 반복문\n",
    "    for left in left_cards:\n",
    "        for right in right_cards:\n",
    "            # 현재까지의 최댓값 값과 지금 보고 있는 곱을 비교해서 더 큰 값을 최댓값 변수에 담아준다\n",
    "            max_product = max(max_product, left * right)\n",
    "\n",
    "    # 찾은 최댓값을 리턴         \n",
    "    return max_product\n",
    "\n",
    "print(max_product([1, 6, 5], [4, 2, 3]))\n",
    "print(max_product([1, -9, 3, 4], [2, 8, 3, 1]))\n",
    "print(max_product([-1, -7, 3], [-4, 3, 6]))    "
   ]
  },
  {
   "attachments": {},
   "cell_type": "markdown",
   "metadata": {},
   "source": [
    "# 가까운 매장찾기\n",
    "\n",
    "스다벅스는 줄어든 매출 때문에 지점 하나를 닫아야 하는 위기에 처해 있습니다. 어떤 지점을 닫는 게 회사에 타격이 적을지 고민이 되는데요. 서로 가까이 붙어 있는 매장이 있으면, 그 중 하나는 없어져도 괜찮지 않을까 싶습니다.\n",
    "\n",
    "사장님은 비서 태호에게, 직선 거리가 가장 가까운 두 매장을 찾아서 보고하라는 임무를 주셨습니다.\n",
    "\n",
    "태호는 영업팀에서 매장들 좌표 위치를 튜플 리스트로 받아 왔습니다.\n",
    "\n",
    "**-예시 tuple 리스트-**\n",
    "\n",
    "test_coordinates = [(2, 3), (12, 30), (40, 50), (5, 1), (12, 10), (3, 4)]\n",
    "튜플은 각 매장의 위치를 x, y 좌표로 나타낸 것입니다. 0번 매장은 (2, 3)에, 그리고 1번 매장은 (12, 30) 위치에 있는 거죠.\n",
    "\n",
    "태호가 사용하려는 함수 closest_pair는 이 좌표 리스트를 파라미터로 받고, 리스트 안에서 가장 가까운 두 매장을 [(x1, y1), (x2, y2)] 형식으로 리턴합니다.\n",
    "\n",
    "참고로 태호는 이미 두 좌표 사이의 거리를 계산해 주는 함수 distance를 써 놨는데요, 함수 distance는 인풋으로 두 튜플을 받아서 그 사이의 직선 거리를 리턴합니다.\n",
    "\n",
    "print(distance((2, 5), (5, 9))) # => 두 지점 사이의 거리 5.0 이 출력됨."
   ]
  },
  {
   "cell_type": "code",
   "execution_count": null,
   "metadata": {},
   "outputs": [
    {
     "name": "stdout",
     "output_type": "stream",
     "text": [
      "[(2, 3), (3, 4)]\n"
     ]
    }
   ],
   "source": [
    "# 제곱근 사용을 위한 sqrt 함수 불러오기\n",
    "from math import sqrt\n",
    "\n",
    "# 두 매장의 직선 거리를 계산해 주는 함수\n",
    "def distance(store1, store2):\n",
    "    return sqrt((store1[0] - store2[0]) ** 2 + (store1[1] - store2[1]) ** 2)\n",
    "\n",
    "# 가장 가까운 두 매장을 찾아주는 함수\n",
    "def closest_pair(coordinates):\n",
    "    # 현재까지 본 가장 가까운 두 매장\n",
    "    pair = [coordinates[0], coordinates[1]]\n",
    "  \n",
    "    for i in range(len(coordinates) - 1):\n",
    "        for j in range(i + 1, len(coordinates)):\n",
    "            store1, store2 = coordinates[i], coordinates[j]\n",
    "\n",
    "            # 더 가까운 두 매장을 찾으면 pair 업데이트\n",
    "            if distance(pair[0], pair[1]) > distance(store1, store2):\n",
    "                pair = [store1, store2]\n",
    "\n",
    "    return pair\n",
    "\n",
    "# 테스트 코드\n",
    "test_coordinates = [(2, 3), (12, 30), (40, 50), (5, 1), (12, 10), (3, 4)]\n",
    "print(closest_pair(test_coordinates))"
   ]
  },
  {
   "attachments": {},
   "cell_type": "markdown",
   "metadata": {},
   "source": [
    "# 강남역 폭우\n",
    "\n",
    "강남역에 엄청난 폭우가 쏟아진다고 가정합시다. 정말 재난 영화에서나 나올 법한 양의 비가 내려서, 고층 건물이 비에 잠길 정도입니다.\n",
    "\n",
    "그렇게 되었을 때, 건물과 건물 사이에 얼마큼의 빗물이 담길 수 있는지 알고 싶은데요. 그것을 계산해 주는 함수 trapping_rain을 작성해 보려고 합니다.\n",
    "\n",
    "함수 trapping_rain은 건물 높이 정보를 보관하는 리스트 buildings를 파라미터로 받고, 담기는 빗물의 총량을 리턴해 줍니다.\n",
    "\n",
    "예를 들어서 파라미터 buildings로 [3, 0, 0, 2, 0, 4]가 들어왔다고 합시다. 그러면 0번 인덱스에 높이 3의 건물이, 3번 인덱스에 높이 2의 건물이, 5번 인덱스에 높이 4의 건물이 있다는 뜻입니다. 1번, 2번, 4번 인덱스에는 건물이 없습니다.\n",
    "\n",
    "그러면 아래의 사진에 따라 총 10만큼의 빗물이 담길 수 있습니다. 따라서 trapping_rain 함수는 10을 리턴하는 거죠.\n",
    "\n",
    "이번에는 파라미터 buildings로 [0, 1, 0, 2, 1, 0, 1, 3, 2, 1, 2, 1]가 들어왔다고 합시다. 그러면 아래의 사진에 따라 총 6 만큼의 빗물이 담길 수 있습니다. 따라서 trapping_rain 함수는 6을 리턴하는 거죠\n",
    "\n",
    "이 정보를 기반으로, trapping_rain 함수를 작성해 보세요!"
   ]
  },
  {
   "cell_type": "code",
   "execution_count": null,
   "metadata": {},
   "outputs": [
    {
     "name": "stdout",
     "output_type": "stream",
     "text": [
      "10\n",
      "6\n"
     ]
    }
   ],
   "source": [
    "def trapping_rain(buildings):\n",
    "    # 총 담기는 빗물의 양을 변수에 저장\n",
    "    total_height = 0\n",
    "\n",
    "    # 리스트의 각 인덱스을 돌면서 해당 칸에 담기는 빗물의 양을 구한다\n",
    "    # 0번 인덱스와 마지막 인덱스는 볼 필요 없다\n",
    "    for i in range(1, len(buildings) - 1):\n",
    "        # 현재 인덱스를 기준으로 양쪽에 가장 높은 건물의 위치를 구한다\n",
    "        max_left = max(buildings[:i])\n",
    "        max_right = max(buildings[i:])\n",
    "\n",
    "        # 현재 인덱스에 빗물이 담길 수 있는 높이\n",
    "        upper_bound = min(max_left, max_right)\n",
    "        # 현재 인덱스에 담기는 빗물의 양을 계산\n",
    "        # 만약 upper_bound가 현재 인덱스 건물보다 높지 않다면, 현재 인덱스에 담기는 빗물은 0\n",
    "        total_height += max(0, upper_bound - buildings[i])\n",
    "\n",
    "    return total_height\n",
    "\n",
    "# 테스트 코드\n",
    "\n",
    "print(trapping_rain([3, 0, 0, 2, 0, 4]))\n",
    "print(trapping_rain([0, 1, 0, 2, 1, 0, 1, 3, 2, 1, 2, 1]))        "
   ]
  },
  {
   "attachments": {},
   "cell_type": "markdown",
   "metadata": {},
   "source": [
    "# Divide and Conquer\n",
    "\n",
    "$$\n",
    "Divide 문제를 부분 문제로 나누다\n",
    "$$\n",
    "$$\n",
    "Conquer 각 부분 문제를 정복\n",
    "$$\n",
    "$$\n",
    "Combine 부분 문제들의 솔루션을 합쳐서 기존문제를 해결\n",
    "$$"
   ]
  },
  {
   "attachments": {},
   "cell_type": "markdown",
   "metadata": {},
   "source": [
    "# 1~n까지의 합\n",
    "\n",
    "우리가 작성할 함수 consecutive_sum은 두 개의 정수 인풋 start와 end를 받고, start부터 end까지의 합을 리턴합니다. end는 start보다 크다고 가정합니다."
   ]
  },
  {
   "cell_type": "code",
   "execution_count": null,
   "metadata": {},
   "outputs": [
    {
     "name": "stdout",
     "output_type": "stream",
     "text": [
      "55\n",
      "5050\n",
      "32131\n",
      "75466\n"
     ]
    }
   ],
   "source": [
    "def consecutive_sum(start, end):\n",
    "    # base case        \n",
    "    if end == start:\n",
    "        return start\n",
    "\n",
    "    # 부분 문제를 반으로 나눠주기 위해서 문제의 정중앙을 정의한다 (Divide)\n",
    "    mid = (start + end) // 2\n",
    "\n",
    "    # 각 부분 문제를 재귀적으로 풀고(Conquer), 부분 문제의 답을 서로 더한다(Combine).\n",
    "    return consecutive_sum(start, mid) + consecutive_sum(mid + 1, end)\n",
    "\n",
    "# 테스트 코드\n",
    "print(consecutive_sum(1, 10))\n",
    "print(consecutive_sum(1, 100))\n",
    "print(consecutive_sum(1, 253))\n",
    "print(consecutive_sum(1, 388))"
   ]
  },
  {
   "attachments": {},
   "cell_type": "markdown",
   "metadata": {},
   "source": [
    "# merge 함수 작성\n",
    "\n",
    "합병 정렬 알고리즘 중 사용되는 merge 함수를 작성해 보세요.\n",
    "\n",
    "merge 함수는 정렬된 두 리스트 list1과 list2를 받아서, 하나의 정렬된 리스트를 리턴합니다."
   ]
  },
  {
   "cell_type": "code",
   "execution_count": null,
   "metadata": {},
   "outputs": [
    {
     "name": "stdout",
     "output_type": "stream",
     "text": [
      "[1]\n",
      "[1]\n",
      "[1, 2]\n",
      "[1, 2, 3, 4, 5, 6, 7, 8]\n",
      "[1, 2, 3, 4, 5, 6, 7, 8]\n",
      "[1, 3, 4, 6, 7, 8, 9, 10]\n"
     ]
    }
   ],
   "source": [
    "def merge(list1, list2):\n",
    "    i = 0\n",
    "    j = 0\n",
    "\n",
    "    # 정렬된 항목들을 담을 리스트\n",
    "    merged_list = []\n",
    "\n",
    "    # list1과 list2를 돌면서 merged_list에 항목 정렬\n",
    "    while i < len(list1) and j < len(list2):\n",
    "        if list1[i] > list2[j]:\n",
    "            merged_list.append(list2[j])\n",
    "            j += 1\n",
    "        else:\n",
    "            merged_list.append(list1[i])\n",
    "            i += 1\n",
    "\n",
    "    # list2에 남은 항목이 있으면 정렬 리스트에 추가\n",
    "    if i == len(list1):\n",
    "        merged_list += list2[j:]\n",
    "\n",
    "    # list1에 남은 항목이 있으면 정렬 리스트에 추가\n",
    "    elif j == len(list2):\n",
    "        merged_list += list1[i:]\n",
    "\n",
    "    return merged_list\n",
    "\n",
    "# 테스트 코드\n",
    "print(merge([1],[]))\n",
    "print(merge([],[1]))\n",
    "print(merge([2],[1]))\n",
    "print(merge([1, 2, 3, 4],[5, 6, 7, 8]))\n",
    "print(merge([5, 6, 7, 8],[1, 2, 3, 4]))\n",
    "print(merge([4, 7, 8, 9],[1, 3, 6, 10]))"
   ]
  },
  {
   "attachments": {},
   "cell_type": "markdown",
   "metadata": {},
   "source": [
    "# 합병 정렬 구현하기\n",
    "\n",
    "Divide and Conquer 방식으로 merge_sort 함수를 써 보세요. merge_sort는 파라미터로 리스트 하나를 받고, 정렬된 새로운 리스트를 리턴합니다.\n",
    "\n",
    "merge 함수는 이전 과제에서 작성한 그대로 사용하면 됩니다!"
   ]
  },
  {
   "cell_type": "code",
   "execution_count": 10,
   "metadata": {},
   "outputs": [
    {
     "name": "stdout",
     "output_type": "stream",
     "text": [
      "[1]\n",
      "[1]\n",
      "[1, 2]\n",
      "[1, 2, 3, 4, 5, 6, 7, 8]\n",
      "[1, 28, 13, 9, 30, 48, 5, 7, 15]\n",
      "[1, 2, 2, 4, 5, 6, 7, 7]\n"
     ]
    }
   ],
   "source": [
    "def merge(list1, list2):\n",
    "    i = 0\n",
    "    j = 0\n",
    "    # merge --> 정렬된 두 리스트를 받아서, 하나의 정렬된 리스트를 리턴해줌\n",
    "\n",
    "    # 정렬된 항목들을 담을 리스트\n",
    "    merged_list = []\n",
    "\n",
    "    # list1과 list2를 돌면서 merged_list에 항목 정렬\n",
    "    while i < len(list1) and j < len(list2):\n",
    "        if list1[i] > list2[j]:\n",
    "            merged_list.append(list2[j])\n",
    "            j += 1\n",
    "        else:\n",
    "            merged_list.append(list1[i])\n",
    "            i += 1\n",
    "\n",
    "    # list2에 남은 항목이 있으면 정렬 리스트에 추가\n",
    "    if i == len(list1):\n",
    "        merged_list += list2[j:]\n",
    "\n",
    "    # list1에 남은 항목이 있으면 정렬 리스트에 추가\n",
    "    elif j == len(list2):\n",
    "        merged_list += list1[i:]\n",
    "\n",
    "    return merged_list\n",
    "\n",
    "\n",
    "# 테스트 코드\n",
    "print(merge([1],[]))\n",
    "print(merge([],[1]))\n",
    "print(merge([2],[1]))\n",
    "print(merge([1, 2, 3, 4], [5, 6, 7, 8]))\n",
    "print(merge([28, 13, 9, 30], [1, 48, 5, 7, 15]))\n",
    "print(merge([2, 5, 6, 7], [1, 2, 4, 7]))\n"
   ]
  },
  {
   "cell_type": "code",
   "execution_count": 13,
   "metadata": {},
   "outputs": [
    {
     "name": "stdout",
     "output_type": "stream",
     "text": [
      "[1, 3, 5, 7, 9, 11, 11, 13]\n",
      "[1, 5, 7, 9, 13, 15, 28, 30, 48]\n",
      "[1, 1, 2, 2, 4, 4, 4, 5, 6, 6, 7, 7, 10, 11, 13, 15]\n"
     ]
    }
   ],
   "source": [
    "def merge(list1, list2):\n",
    "    i = 0\n",
    "    j = 0\n",
    "    # merge --> 정렬된 두 리스트를 받아서, 하나의 정렬된 리스트를 리턴해줌\n",
    "\n",
    "    # 정렬된 항목들을 담을 리스트\n",
    "    merged_list = []\n",
    "\n",
    "    # list1과 list2를 돌면서 merged_list에 항목 정렬\n",
    "    while i < len(list1) and j < len(list2):\n",
    "        if list1[i] > list2[j]:\n",
    "            merged_list.append(list2[j])\n",
    "            j += 1\n",
    "        else:\n",
    "            merged_list.append(list1[i])\n",
    "            i += 1\n",
    "\n",
    "    # list2에 남은 항목이 있으면 정렬 리스트에 추가\n",
    "    if i == len(list1):\n",
    "        merged_list += list2[j:]\n",
    "\n",
    "    # list1에 남은 항목이 있으면 정렬 리스트에 추가\n",
    "    elif j == len(list2):\n",
    "        merged_list += list1[i:]\n",
    "\n",
    "    return merged_list\n",
    "\n",
    "#merge_sort -->파라미터로 리스트 하나를 받고, 정렬된 새로운 리스트를 리턴합니다.\n",
    "\n",
    "def merge_sort(my_list):\n",
    "    # base case\n",
    "    if len(my_list) < 2:\n",
    "        return my_list\n",
    "\n",
    "    # my_list를 반씩 나눈다(divide)\n",
    "    left_half = my_list[:len(my_list)//2]    # 왼쪽 반\n",
    "    right_half = my_list[len(my_list)//2:]   # 오른쪽 반\n",
    "\n",
    "    # merge_sort 함수를 재귀적으로 호출하여 부분 문제 해결(conquer)하고,\n",
    "    # merge 함수로 정렬된 두 리스트를 합쳐(combine)준다\n",
    "    return merge(merge_sort(left_half), merge_sort(right_half))\n",
    "    \n",
    "print(merge_sort([1, 3, 5, 7, 9, 11, 13, 11]))\n",
    "print(merge_sort([28, 13, 9, 30, 1, 48, 5, 7, 15]))\n",
    "print(merge_sort([2, 5, 6, 7, 1, 2, 4, 7, 10, 11, 4, 15, 13, 1, 6, 4]))\n"
   ]
  },
  {
   "attachments": {},
   "cell_type": "markdown",
   "metadata": {},
   "source": [
    "# patition 함수 구현하기\n",
    "\n",
    "partition 함수 설명 영상을 토대로 partition 함수를 작성하세요.\n",
    "\n",
    "partition 함수는 리스트 my_list, 그리고 partition할 범위를 나타내는 인덱스 start와 인덱스 end를 파라미터로 받습니다. my_list의 값들을 pivot 기준으로 재배치한 후, pivot의 최종 위치 인덱스를 리턴해야 합니다.`"
   ]
  },
  {
   "cell_type": "code",
   "execution_count": null,
   "metadata": {},
   "outputs": [
    {
     "name": "stdout",
     "output_type": "stream",
     "text": [
      "[4, 3, 2, 1, 5, 6, 7]\n",
      "4\n",
      "[1, 2, 3, 4, 6, 5, 6]\n",
      "3\n"
     ]
    }
   ],
   "source": [
    "\n",
    "# 두 요소의 위치를 바꿔주는 helper function\n",
    "def swap_elements(my_list, index1, index2):\n",
    "    temp = my_list[index1]\n",
    "    my_list[index1] = my_list[index2]\n",
    "    my_list[index2] = temp\n",
    "\n",
    "\n",
    "# 퀵 정렬에서 사용되는 partition 함수\n",
    "def partition(my_list, start, end):\n",
    "    # 리스트 값 확인과 기준점 이하 값들의 위치 확인을 위한 변수 정의\n",
    "    i = start\n",
    "    b = start\n",
    "    p = end\n",
    "\n",
    "    # 범위안의 모든 값들을 볼 때까지 반복문을 돌린다\n",
    "    while i < p:\n",
    "        # i 인덱스의 값이 기준점보다 작으면 i와 b 인덱스에 있는 값들을 교환하고 b를 1 증가 시킨다\n",
    "        if my_list[i] <= my_list[p]:\n",
    "            swap_elements(my_list, i, b)\n",
    "            b += 1\n",
    "        i += 1\n",
    "\n",
    "    # b와 기준점인 p 인덱스에 있는 값들을 바꿔준다\n",
    "    swap_elements(my_list, b, p)\n",
    "    p = b\n",
    "\n",
    "    # pivot의 최종 인덱스를 리턴해 준다\n",
    "    return p\n",
    "\n",
    "\n",
    "# 테스트 코드 1\n",
    "list1 = [4, 3, 6, 2, 7, 1, 5]\n",
    "pivot_index1 = partition(list1, 0, len(list1) - 1)\n",
    "print(list1)\n",
    "print(pivot_index1)\n",
    "\n",
    "# 테스트 코드 2\n",
    "list2 = [6, 1, 2, 6, 3, 5, 4]\n",
    "pivot_index2 = partition(list2, 0, len(list2) - 1)\n",
    "print(list2)\n",
    "print(pivot_index2)"
   ]
  },
  {
   "attachments": {},
   "cell_type": "markdown",
   "metadata": {},
   "source": [
    "# 퀵 정렬 구현하기\n",
    "\n",
    "Divide and Conquer 방식으로 quicksort 함수를 써 보세요. quicksort는 파라미터로 리스트 하나와 리스트 내에서 정렬시킬 범위를 나타내는 인덱스 start와 인덱스 end를 받습니다.\n",
    "\n",
    "merge_sort 함수와 달리 quicksort 함수는 정렬된 새로운 리스트를 리턴하는 게 아니라, 파라미터로 받는 리스트 자체를 정렬시키는 것입니다.\n",
    "\n",
    "swap_elements와 partition 함수는 이전 과제에서 작성한 그대로 사용하면 됩니다!"
   ]
  },
  {
   "cell_type": "code",
   "execution_count": null,
   "metadata": {},
   "outputs": [
    {
     "name": "stdout",
     "output_type": "stream",
     "text": [
      "[1, 3, 5, 7, 9, 11, 11, 13]\n",
      "[1, 5, 7, 9, 13, 15, 28, 30, 48]\n",
      "[1, 1, 2, 2, 4, 4, 4, 5, 6, 6, 7, 7, 10, 11, 13, 15]\n"
     ]
    }
   ],
   "source": [
    "# 두 요소의 위치를 바꿔주는 helper function\n",
    "def swap_elements(my_list, index1, index2):\n",
    "    temp = my_list[index1]\n",
    "    my_list[index1] = my_list[index2]\n",
    "    my_list[index2] = temp\n",
    "\n",
    "# 퀵 정렬에서 사용되는 partition 함수\n",
    "def partition(my_list, start, end):\n",
    "    # 리스트 값 확인과 기준점 이하 값들의 위치 확인을 위한 변수 정의\n",
    "    i = start\n",
    "    b = start\n",
    "    p = end\n",
    "\n",
    "    # 범위안의 모든 값들을 볼 때까지 반복문을 돌린다\n",
    "    while i < p:\n",
    "        # i 인덱스의 값이 기준점보다 작으면 i와 b 인덱스에 있는 값들을 교환하고 b를 1 증가 시킨다\n",
    "        if my_list[i] <= my_list[p]:\n",
    "            swap_elements(my_list, i, b)\n",
    "            b += 1\n",
    "        i += 1\n",
    "\n",
    "    # b와 기준점인 p 인덱스에 있는 값들을 바꿔준다\n",
    "    swap_elements(my_list, b, p)\n",
    "    p = b\n",
    "\n",
    "    # pivot의 최종 인덱스를 리턴해 준다\n",
    "    return p\n",
    "\n",
    "# 퀵 정렬\n",
    "def quicksort(my_list, start, end):\n",
    "    # base case\n",
    "    if end - start < 1:\n",
    "        return\n",
    "\n",
    "    # my_list를 두 부분으로 나누어주고,\n",
    "    # partition 이후 pivot의 인덱스를 리턴받는다\n",
    "    pivot = partition(my_list, start, end)\n",
    "\n",
    "    # pivot의 왼쪽 부분 정렬\n",
    "    quicksort(my_list, start, pivot - 1)\n",
    "\n",
    "    # pivot의 오른쪽 부분 정렬\n",
    "    quicksort(my_list, pivot + 1, end)\n",
    "\n",
    "\n",
    "# 테스트 코드 1\n",
    "list1 = [1, 3, 5, 7, 9, 11, 13, 11]\n",
    "quicksort(list1, 0, len(list1) - 1)\n",
    "print(list1)\n",
    "\n",
    "# 테스트 코드 2\n",
    "list2 = [28, 13, 9, 30, 1, 48, 5, 7, 15]\n",
    "quicksort(list2, 0, len(list2) - 1)\n",
    "print(list2)\n",
    "\n",
    "# 테스트 코드 3\n",
    "list3 = [2, 5, 6, 7, 1, 2, 4, 7, 10, 11, 4, 15, 13, 1, 6, 4]\n",
    "quicksort(list3, 0, len(list3) - 1)\n",
    "print(list3)"
   ]
  },
  {
   "attachments": {},
   "cell_type": "markdown",
   "metadata": {},
   "source": [
    "# --------------DYNAMIC PROGAMMING & GREEDY ALGORITHM(03/20)----------------------"
   ]
  },
  {
   "attachments": {},
   "cell_type": "markdown",
   "metadata": {},
   "source": [
    "# Dynamic Programming\n",
    "1. Memoization --> 중복되는 계산은 한 번만 계산 후 메모 (재귀 기반)\n",
    "\n",
    "2. Tabulation --> Table 방식으로 정리,(단순 반복문 기반)"
   ]
  },
  {
   "cell_type": "code",
   "execution_count": 5,
   "metadata": {},
   "outputs": [
    {
     "name": "stdout",
     "output_type": "stream",
     "text": [
      "55\n",
      "12586269025\n",
      "354224848179261915075\n"
     ]
    }
   ],
   "source": [
    "# 피보나치 수열 Memoization 방식\n",
    "\n",
    "def fib(n):\n",
    "    fib_cache = {1:1, 2:1}\n",
    "    if n > 2:\n",
    "        for i in range(3, n+1):\n",
    "            fib_cache[i]=fib_cache[i-2]+fib_cache[i-1]\n",
    "    return fib_cache[n]\n",
    "\n",
    "# 테스트\n",
    "print(fib(10))\n",
    "print(fib(50))\n",
    "print(fib(100))\n"
   ]
  },
  {
   "cell_type": "code",
   "execution_count": 4,
   "metadata": {},
   "outputs": [
    {
     "name": "stdout",
     "output_type": "stream",
     "text": [
      "55\n",
      "12586269025\n",
      "354224848179261915075\n"
     ]
    }
   ],
   "source": [
    "# 재귀함수\n",
    "# Recursive case-> 현 문제가 너무 커서, 같은 형태의 더 작은 부분 문제를 재귀적으로 푸는 경우\n",
    "# Base case-> 이미 문제가 충분히 작아서, 더 작은 부분 문제로 나누지 않고도 바로 답을 알 수 있는 경우\n",
    "# 파보나치 수열의 첫 번째 수와 두 번쨰 수는 항상 1로 정해져있음\n",
    "\n",
    "def fib_memo(n, cache):\n",
    "    # base case\n",
    "    if n < 3:\n",
    "        return 1\n",
    "    # Recursive case \n",
    "    # 1.fib_memo를 호출했다고 가정했을 떄 -> 이미 n번째 피보나치 수를 계산하여 cache[n]이 존재 하는 경우 \n",
    "   \n",
    "    if n in cache:\n",
    "        return cache[n]\n",
    "    \n",
    "    # 2.존재하지 않는 경우\n",
    "    cache[n] = fib_memo(n-1, cache) + fib_memo(n-2, cache)\n",
    "\n",
    "    return cache[n]\n",
    "\n",
    "def fib(n):\n",
    "    fib_cache = {}\n",
    "    return fib_memo(n, fib_cache)\n",
    "\n",
    "print(fib(10))\n",
    "print(fib(50))\n",
    "print(fib(100))"
   ]
  },
  {
   "cell_type": "code",
   "execution_count": 3,
   "metadata": {},
   "outputs": [
    {
     "name": "stdout",
     "output_type": "stream",
     "text": [
      "55\n",
      "225851433717\n",
      "1725375039079340637797070384\n"
     ]
    }
   ],
   "source": [
    "# 피보나치수열 Tabulation 방식\n",
    "\n",
    "def fib_tab(n):\n",
    "    a, b = 1, 1\n",
    "    if(n<=2):\n",
    "        return 1\n",
    "        \n",
    "    for i in range(1,n):\n",
    "        a,b = b, a+b\n",
    "        \n",
    "    return a\n",
    "# 테스트 코드\n",
    "print(fib_tab(10))\n",
    "print(fib_tab(56))\n",
    "print(fib_tab(132))"
   ]
  },
  {
   "attachments": {},
   "cell_type": "markdown",
   "metadata": {},
   "source": [
    "# Memoization & Tabulation 비교 정리 \n",
    "\n",
    "0. 공통점 :  둘 다 중복되는 부분 문제의 비효율을 해결\n",
    "\n",
    "1. 차이점 : \n",
    "\n",
    "              Memoization --> 재귀함수 --> 재귀 호출을 너무 많이 일어나면 스택(stack)이 계속 쌓임 --> 결국 과부하가 걸려 오류가 날 가능성이 있음.\n",
    " \n",
    "              Tabulation --> 반복문 --> 표를 하나씩 채워 올라가는 것이기 때문에 n번 째 값을 구하기 위해서 처음부터 모두 계산 --> 필요없는 계산까지 전부 다 해야함.  "
   ]
  },
  {
   "attachments": {},
   "cell_type": "markdown",
   "metadata": {},
   "source": [
    "# Dynamic Programming 공간 최적화\n",
    "n번 째 피보나치 수를 계산하기 위해서는 가장 최근 계산한 두 값만 알면 됨. \n",
    " \n",
    " 공간 복잡도O(1) 로 fib_optimized 함수를 작성하시오."
   ]
  },
  {
   "cell_type": "code",
   "execution_count": 8,
   "metadata": {},
   "outputs": [
    {
     "name": "stdout",
     "output_type": "stream",
     "text": [
      "987\n",
      "53316291173\n",
      "146178119651438213260386312206974243796773058\n"
     ]
    }
   ],
   "source": [
    "def fib_optimized(n):\n",
    "    # 여기에 코드를 작성하세요\n",
    "    a, b= 1, 1\n",
    "    if(n<=2):\n",
    "        return 1\n",
    "        \n",
    "    for i in range(1,n):\n",
    "        a,b = b, a+b\n",
    "        \n",
    "    return a\n",
    "\n",
    "\n",
    "# 테스트 코드\n",
    "print(fib_optimized(16))\n",
    "print(fib_optimized(53))\n",
    "print(fib_optimized(213))"
   ]
  },
  {
   "attachments": {},
   "cell_type": "markdown",
   "metadata": {},
   "source": [
    "# 새꼼달꼼 장사 MEmoization\n",
    "\n",
    "솔희는 학원 쉬는 시간에 친구들을 상대로 새꼼달꼼 장사를 합니다. 그러다 문뜩, 갖고 있는 새꼼달꼼으로 벌어들일 수 있는 최대 수익이 궁금해졌습니다.\n",
    "\n",
    "가능한 최대 수익을 리턴시켜 주는 함수 max_profit_memo를 Memoization 방식으로 작성해 보세요. max_profit_memo는 파라미터 세 개를 받습니다.\n",
    "\n",
    "price_list: 개수별 가격이 정리되어 있는 리스트\n",
    "count: 판매할 새꼼달꼼 개수\n",
    "cache: 개수별 최대 수익이 저장되어 있는 사전\n",
    "예를 들어 price_list가 [0, 100, 400, 800, 900, 1000]이라면, 아래처럼 가격이 책정된 거예요.\n",
    "\n",
    "새꼼달꼼 0개에 0원\n",
    "\n",
    "새꼼달꼼 1개에 100원\n",
    "\n",
    "새꼼달꼼 2개에 400원\n",
    "\n",
    "새꼼달꼼 3개에 800원\n",
    "\n",
    "새꼼달꼼 4개에 900원\n",
    "\n",
    "새꼼달꼼 5개에 1000원\n",
    "\n",
    "만약 솔희가 새꼼달꼼 5개를 판매한다면 최대로 얼마를 벌 수 있을까요?\n",
    "\n",
    "한 친구에게 3개 팔고 다른 친구에게 2개를 팔면, \n",
    "\n",
    "800+400을 해서 총 1200원의 수익을 낼 수 있겠죠"
   ]
  },
  {
   "cell_type": "code",
   "execution_count": 7,
   "metadata": {},
   "outputs": [
    {
     "name": "stdout",
     "output_type": "stream",
     "text": [
      "1200\n",
      "2500\n",
      "2400\n"
     ]
    }
   ],
   "source": [
    "def max_profit_memo(price_list, count, cache):\n",
    "    # Base Case: 0개 혹은 1개면 부분 문제로 나눌 필요가 없기 때문에 가격을 바로 리턴한다\n",
    "    if count < 2:\n",
    "        cache[count] = price_list[count]\n",
    "        return cache[count]\n",
    "\n",
    "    # 이미 계산한 값이면 cache에 저장된 값을 리턴한다\n",
    "    if count in cache:\n",
    "        return cache[count]\n",
    "\n",
    "    # profit은 count개를 팔아서 가능한 최대 수익을 저장하는 변수\n",
    "    # 팔려고 하는 총개수에 대한 가격이 price_list에 없으면 일단 0으로 설정\n",
    "    # 팔려고 하는 총개수에 대한 가격이 price_list에 있으면 일단 그 가격으로 설정\n",
    "    if count < len(price_list):\n",
    "        profit = price_list[count]\n",
    "    else:\n",
    "        profit = 0\n",
    "\n",
    "    # count개를 팔 수 있는 조합들을 비교해서, 가능한 최대 수익을 profit에 저장\n",
    "    for i in range(1, count // 2 + 1):\n",
    "        profit = max(profit, max_profit_memo(price_list, i, cache) \n",
    "                 + max_profit_memo(price_list, count - i, cache))\n",
    "\n",
    "    # 계산된 최대 수익을 cache에 저장\n",
    "    cache[count] = profit\n",
    "\n",
    "    return profit\n",
    "\n",
    "\n",
    "def max_profit(price_list, count):\n",
    "    max_profit_cache = {}\n",
    "\n",
    "    return max_profit_memo(price_list, count, max_profit_cache)\n",
    "\n",
    "\n",
    "# 테스트 코드\n",
    "print(max_profit([0, 100, 400, 800, 900, 1000], 5))\n",
    "print(max_profit([0, 100, 400, 800, 900, 1000], 10))\n",
    "print(max_profit([0, 100, 400, 800, 900, 1000, 1400, 1600, 2100, 2200], 9))\n"
   ]
  },
  {
   "attachments": {},
   "cell_type": "markdown",
   "metadata": {},
   "source": [
    "# 새꼼달꼼 장사 Tabulation\n",
    "\n",
    "가능한 최대 수익을 리턴시켜 주는 함수 max_profit을 Tabulation 방식으로 작성해 보세요. max_profit은 파라미터 두 개를 받습니다.\n",
    "\n",
    "price_list: 개수별 가격이 정리되어 있는 리스트\n",
    "count: 판매할 새꼼달꼼 개수"
   ]
  },
  {
   "cell_type": "code",
   "execution_count": 9,
   "metadata": {},
   "outputs": [
    {
     "name": "stdout",
     "output_type": "stream",
     "text": [
      "2000\n",
      "2400\n",
      "1800\n"
     ]
    }
   ],
   "source": [
    "def max_profit(price_list, count):\n",
    "    # 개수별로 가능한 최대 수익을 저장하는 리스트\n",
    "    # 새꼼달꼼 0개면 0원\n",
    "    profit_table = [0]\n",
    "\n",
    "    # 개수 1부터 count까지 계산하기 위해 반복문\n",
    "    for i in range(1, count + 1):\n",
    "        # 새꼼달꼼 i개에 대한 최대 수익을 담는 변수 profit\n",
    "        if i < len(price_list):\n",
    "            # i개에 대한 가격이 price_list에 있으면,\n",
    "            # profit에 price_list[i]값을 넣는다\n",
    "            profit = price_list[i]\n",
    "        else:\n",
    "            # i개에 대한 가격이 price_list에 없으면,\n",
    "            # profit에 0을 넣는다\n",
    "            profit = 0\n",
    "\n",
    "        # count개를 팔 수 있는 조합들을 비교해서, 가능한 최대 수익을 찾는다\n",
    "        for j in range(1, i // 2 + 1):\n",
    "            profit = max(profit, profit_table[j] + profit_table[i - j])\n",
    "\n",
    "        profit_table.append(profit)\n",
    "\n",
    "    return profit_table[count]\n",
    "\n",
    "\n",
    "# 테스트 코드\n",
    "print(max_profit([0, 200, 600, 900, 1200, 2000], 5))\n",
    "print(max_profit([0, 300, 600, 700, 1100, 1400], 8))\n",
    "print(max_profit([0, 100, 200, 400, 600, 900, 1200, 1300, 1500, 1800], 9))\n"
   ]
  },
  {
   "attachments": {},
   "cell_type": "markdown",
   "metadata": {},
   "source": [
    "# Greedy algorithm\n",
    "\n",
    "0. 장점 : 간단하고 빠르다.\n",
    "1. 단점 : 최적의 답이 항상 보장되지 않는다. ---> 최적의 답을 보장해 주는 문제도 있긴함.\n",
    "\n",
    "                                          언제? : 0. 최적 부분 구조  --> 부분 문제들의 최적의 답을 이용해서 기존 문제의 최적의 답을 구할 수 있다는 것\n",
    "                                                  1. 탐욕적 선택 속성 --> 각 단계에서의 탐욕스런 선택이 최종 답을 구하기 위한 최적의 선택\n",
    "                                                  ex. 최대한 적은 동전을 사용해서 돈 거슬러 주기."
   ]
  },
  {
   "cell_type": "code",
   "execution_count": 11,
   "metadata": {},
   "outputs": [
    {
     "name": "stdout",
     "output_type": "stream",
     "text": [
      "10\n",
      "5\n",
      "49\n",
      "70\n"
     ]
    }
   ],
   "source": [
    "# 최대한 적은 동전을 사용해서 돈 거슬러 주기.\n",
    "\n",
    "def min_coin_count(value, coin_list):\n",
    "    \n",
    "    min_coin = 0\n",
    "    coin_list = sorted(coin_list, reverse = True)\n",
    "\n",
    "    for i in range(len(coin_list)):\n",
    "        coin = value // coin_list[i]\n",
    "        min_coin += coin\n",
    "        value = value - coin_list[i]*coin\n",
    "\n",
    "    return min_coin\n",
    "\n",
    "# 테스트 코드\n",
    "default_coin_list = [100, 500, 10, 50]\n",
    "print(min_coin_count(1440, default_coin_list))\n",
    "print(min_coin_count(1700, default_coin_list))\n",
    "print(min_coin_count(23520, default_coin_list))\n",
    "print(min_coin_count(32590, default_coin_list))"
   ]
  },
  {
   "attachments": {},
   "cell_type": "markdown",
   "metadata": {},
   "source": [
    "# 최대 곱 구하기\n",
    "\n",
    "여럿이서 카드 게임을 하고 있는데, 각 플레이어는 3장의 카드를 들고 있습니다. \n",
    "\n",
    "위의 경우 첫 번째 플레이어는 \n",
    "1, \n",
    "2, \n",
    "3을 들고 있고, \n",
    "\n",
    "두 번째 플레이어는 \n",
    "4, \n",
    "6, \n",
    "1을 들고 있고, \n",
    "\n",
    "세 번째 플레이어는 \n",
    "8, \n",
    "2, \n",
    "4를 들고 있는 거죠.\n",
    "\n",
    "함수 max_product는 한 사람당 카드를 하나씩 뽑아서 모두 곱했을 때 가능한 최대 곱을 리턴합니다. max_product를 Greedy Algorithm 방식으로 구현해 보세요."
   ]
  },
  {
   "cell_type": "code",
   "execution_count": 12,
   "metadata": {},
   "outputs": [
    {
     "name": "stdout",
     "output_type": "stream",
     "text": [
      "24\n",
      "244944\n",
      "10800\n",
      "12600\n"
     ]
    }
   ],
   "source": [
    "def max_product(card_lists):\n",
    "    bank = []\n",
    "    result = 1\n",
    "\n",
    "    for i in card_lists:\n",
    "        temp = sorted(i, reverse = True)\n",
    "        bank.append(temp[0])\n",
    "   \n",
    "    for i in bank:\n",
    "        result = result * i\n",
    "\n",
    "    return result\n",
    "    \n",
    "# 테스트 코드\n",
    "test_cards1 = [[1, 6, 5], [4, 2, 3]]\n",
    "print(max_product(test_cards1))\n",
    "\n",
    "test_cards2 = [[9, 7, 8], [9, 2, 3], [9, 8, 1], [2, 8, 3], [1, 3, 6], [7, 7, 4]]\n",
    "print(max_product(test_cards2))\n",
    "\n",
    "test_cards3 = [[1, 2, 3], [4, 6, 1], [8, 2, 4], [3, 2, 5], [5, 2, 3], [3, 2, 1]]\n",
    "print(max_product(test_cards3))\n",
    "\n",
    "test_cards4 = [[5, 5, 5], [4, 3, 5], [1, 1, 1], [9, 8, 3], [2, 8, 4], [5, 7, 4]]\n",
    "print(max_product(test_cards4))"
   ]
  },
  {
   "attachments": {},
   "cell_type": "markdown",
   "metadata": {},
   "source": [
    "# 지각 벌금 적게 내기\n",
    "\n",
    "지각비 = 1분에 1달러씩 내야 하는 벌금 제도를 도입했습니다.\n",
    "\n",
    "다섯 사람이 각각 출력해야 하는 페이지 수는 3장, 1장, 4장, 3장, 2장입니다. 프린터는 한 대밖에 없고, 1장을 출력하기 위해서는 1분이 걸립니다.\n",
    "\n",
    "현재 순서대로 출력한다면, 아래와 같이 총 39달러의 벌금을 내야 합니다.\n",
    "\n",
    "첫 번째 사람: \n",
    "3분 지각\n",
    "\n",
    "두 번째 사람: \n",
    "3+1분 지각\n",
    "\n",
    "세 번째 사람: \n",
    "3+1+4분 지각\n",
    "\n",
    "네 번째 사람: \n",
    "3+1+4+3분 지각\n",
    "\n",
    "다섯 번째 사람: \n",
    "3+1+4+3+2분 지각\n",
    "\n",
    "흠… 더 적게 내는 방법이 있지 않을까요?\n",
    "\n",
    "출력할 페이지 수가 담긴 리스트 pages_to_print를 파라미터로 받고 최소 벌금을 리턴해 주는 함수 min_fee를 Greedy Algorithm으로 구현하세요.\n"
   ]
  },
  {
   "cell_type": "code",
   "execution_count": 1,
   "metadata": {},
   "outputs": [
    {
     "name": "stdout",
     "output_type": "stream",
     "text": [
      "39\n",
      "10\n",
      "32\n",
      "188\n"
     ]
    }
   ],
   "source": [
    "def min_fee(pages_to_print):\n",
    "\n",
    "    # 인풋으로 받은 리스트를 정렬시켜 준다\n",
    "    sorted_list = sorted(pages_to_print)\n",
    "\n",
    "    # 총 벌금을 담을 변수\n",
    "    total_fee = 0\n",
    "\n",
    "    # 정렬된 리스트에서 총 벌금 계산\n",
    "    for i in range(len(sorted_list)):\n",
    "        total_fee += sorted_list[i] * (len(sorted_list) - i)\n",
    "\n",
    "    return total_fee\n",
    "\n",
    "# 테스트 코드\n",
    "print(min_fee([6, 11, 4, 1]))\n",
    "print(min_fee([3, 2, 1]))\n",
    "print(min_fee([3, 1, 4, 3, 2]))\n",
    "print(min_fee([8, 4, 2, 3, 9, 23, 6, 8]))"
   ]
  },
  {
   "attachments": {},
   "cell_type": "markdown",
   "metadata": {},
   "source": [
    "# 수강 신청\n",
    "\n",
    "[(4, 7), (2, 5), (1, 3), (8, 10), (5, 9), (2, 6), (13, 16), (9, 11), (1, 8)]\n",
    "\n",
    "리스트에 담겨있는 튜플들은 각각 하나의 수업을 나타냅니다. 각 튜플의 0번째 항목은 해당 수업의 시작 교시, 그리고 1 번 항목은 해당 수업이 끝나는 교시입니다. 예를 들어서 0번 인덱스에 있는 튜플값은 (4, 7)이니까, 해당 수업은 4교시에 시작해서 7교시에 끝나는 거죠.\n",
    "\n",
    "(2, 5)를 듣는다고 가정합시다. (4, 7) 수업은 (2, 5)가 끝나기 전에 시작하기 때문에, 두 수업은 같이 들을 수 없습니다. 반면, 수업 (1, 3)과 (4, 7)은 시간이 겹치지 않기 때문에 동시에 들을 수 있습니다.\n",
    "\n",
    "(단, (2, 5), (5, 7)과 같이 5교시에 끝나는 수업과 5교시에 시작하는 수업은 서로 같이 듣지 못한다고 가정합니다)\n",
    "\n",
    "열정이 불타오르는 신입생 지웅이는 최대한 많은 수업을 들을 수 있는 수업 조합을 찾아주는 함수 course_selection 함수를 작성하려고 합니다.\n",
    "\n",
    "course_selection은 파라미터로 전체 수업 리스트를 받고 가능한 많은 수업을 담은 리스트를 리턴합니다."
   ]
  },
  {
   "cell_type": "code",
   "execution_count": 2,
   "metadata": {},
   "outputs": [
    {
     "name": "stdout",
     "output_type": "stream",
     "text": [
      "[(2, 3), (4, 5), (6, 8), (9, 10)]\n",
      "[(1, 2), (3, 4), (5, 7), (8, 9)]\n",
      "[(1, 3), (4, 7), (8, 10), (13, 16)]\n"
     ]
    }
   ],
   "source": [
    "def course_selection(course_list):\n",
    "    \n",
    "    sorted_list = sorted(course_list, key=lambda x: x[1])\n",
    "\n",
    "    # 가장 먼저 끝나는 수업은 무조건 듣는다\n",
    "    my_selection = [sorted_list[0]]\n",
    "\n",
    "    # 이미 선택한 수업과 안 겹치는 수업 중 가장 빨리 끝나는 수업을 고른다\n",
    "    for course in sorted_list:\n",
    "        # 마지막 수업이 끝나기 전에 새 수업이 시작하면 겹친다\n",
    "        if course[0] > my_selection[-1][1]:\n",
    "            my_selection.append(course)\n",
    "\n",
    "    return my_selection\n",
    "    \n",
    "# 테스트 코드\n",
    "print(course_selection([(6, 10), (2, 3), (4, 5), (1, 7), (6, 8), (9, 10)]))\n",
    "print(course_selection([(1, 2), (3, 4), (0, 6), (5, 7), (8, 9), (5, 9)]))\n",
    "print(course_selection([(4, 7), (2, 5), (1, 3), (8, 10), (5, 9), (2, 5), (13, 16), (9, 11), (1, 8)]))\n"
   ]
  }
 ],
 "metadata": {
  "kernelspec": {
   "display_name": "base",
   "language": "python",
   "name": "python3"
  },
  "language_info": {
   "codemirror_mode": {
    "name": "ipython",
    "version": 3
   },
   "file_extension": ".py",
   "mimetype": "text/x-python",
   "name": "python",
   "nbconvert_exporter": "python",
   "pygments_lexer": "ipython3",
   "version": "3.9.13"
  },
  "orig_nbformat": 4,
  "vscode": {
   "interpreter": {
    "hash": "ad2bdc8ecc057115af97d19610ffacc2b4e99fae6737bb82f5d7fb13d2f2c186"
   }
  }
 },
 "nbformat": 4,
 "nbformat_minor": 2
}
