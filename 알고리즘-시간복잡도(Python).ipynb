{
 "cells": [
  {
   "attachments": {},
   "cell_type": "markdown",
   "metadata": {},
   "source": [
    "# ❗️효율적인 알고리즘 고민\n",
    "알고리즘 문제를 풀다 보면 문제에 대한 해답을 찾는 것이 가장 중요\n",
    "\n",
    "그러나 그에 못지않게, 효율적인 방법으로 문제를 해결을 했는지도 중요\n",
    "\n",
    "혹시 문제를 풀다가 ‘이것보다 더 효율적인 방법은 없을까? 또는 이게 제일 좋은 방법이 맞나?’라는 생각을 해 본 적이 있는가?\n",
    "\n",
    "효율적인 방법을 고민한다는 것은 시간 복잡도를 고민한다는 것과 같은 말\n"
   ]
  },
  {
   "attachments": {},
   "cell_type": "markdown",
   "metadata": {},
   "source": [
    "\n",
    "# 알고리즘 읽기와 분석\n",
    "\n",
    "1. 문제를 읽을 때, 어떤 부분을 초점을 두고 읽어야 할까?\n",
    "2. 문제의 조건들을 추상화하는 연습\n",
    "3. 시간복잡도/ 공간복잡도 어림잡기\n",
    "##### -> 알고리즘의 로직을 코드로 구현할 때, 시간 복잡도를 고려한다는 것은 ‘입력값의 변화에 따라 연산을 실행할 때, 연산 횟수에 비해 시간이 얼마만큼 걸리는가?’라는 말이다\n",
    "\n",
    "### # BIG 표기법 -> 시간복잡도를 표기하는 방법\n",
    "BIG O - 상한접근 - 최악의 경우\n",
    "\n",
    "BIG 오메가 - 하한 점근 - 최선\n",
    "\n",
    "BIG 세타 - 그 둘의 평균 - 중간(평균)\n",
    "\n",
    "### # 가장 자주 사용하는 표기법\n",
    "빅오 표기법 - 최악의 경우를 고려하므로, 프로그램이 실행되는 과정에서 쇼요되는 최악의 시간까지 고려할 수 있기 때문\n",
    "\"최소한 특정 시간 이상이 걸린다\" 혹은 \"이 정도 시간이 걸린다\"를 고려하는 것보다 \"이 정도 시간까지 걸릴 수 있다\"를 고려해야 그에 맞는 대응이 가능\n",
    "\n",
    "### # BIG O notation = 점근적 표현법\n",
    "시간과 공간 차원에서 각각 다룰 수 있음 --> 시간복잡도와 공간복잡도\n",
    "\n",
    "### # BIG O 표기법의 종류\n",
    "##### 시간복잡도(복잡>간단) \n",
    "\n",
    "**O(n!)>O(2^n)>O(N^2)>O(NlogN)>O(N)>O(lootN)>O(logN)>O(1)**\n",
    "\n",
    "\n",
    "![IMAGE](https://hanamon.kr/%EC%95%8C%EA%B3%A0%EB%A6%AC%EC%A6%98-time-complexity-%EC%8B%9C%EA%B0%84-%EB%B3%B5%EC%9E%A1%EB%8F%84/big-o-complexity-chart/)\n",
    "\n"
   ]
  },
  {
   "cell_type": "code",
   "execution_count": 22,
   "metadata": {},
   "outputs": [
    {
     "name": "stdout",
     "output_type": "stream",
     "text": [
      "55\n"
     ]
    }
   ],
   "source": [
    "# O(1)의 예시\n",
    "\n",
    "# 1부터 N까지 합을 구하시오.\n",
    "\n",
    "def sum_N(N):\n",
    "    return N * (N+1)//2 # --> 간단한 수식으로 표현 가능\n",
    "print(sum_N(10))\n",
    "\n",
    "# 이 알고리즘에선 입력값의 크기가 아무리 커져도 즉시 출력값을 얻어낼 수 있다.\n"
   ]
  },
  {
   "cell_type": "code",
   "execution_count": 18,
   "metadata": {},
   "outputs": [],
   "source": [
    "# O(N)의 예시 -> 입력이 n일때 최악 n번만큼 연산해야한다 -->확률적으로는 n/2번 -->같은 비율로 증가(EX)입력값N이 1증가할 때 실행시간 1초증가)\n",
    "\n",
    "#길이 n수열에서 수k찾기(sum,min,max도 유사)\n",
    "\n",
    "def search(lst, N, K):\n",
    "    for i in lst:\n",
    "        if i == lst:\n",
    "            return True\n",
    "    return False\n"
   ]
  },
  {
   "cell_type": "code",
   "execution_count": 30,
   "metadata": {},
   "outputs": [
    {
     "name": "stdout",
     "output_type": "stream",
     "text": [
      "True\n"
     ]
    }
   ],
   "source": [
    "# O(logN)의 예시\n",
    "\n",
    "# 정렬되어 있다는 정보가 있다면? 0~9로 가정하고 3을 찾는 과정을 생각해보자\n",
    "\n",
    "# 시작 0 끝 9 중간 4\n",
    "# 시작 0 끝 3 중간 1\n",
    "# 시작 2 끝 3 중간 2\n",
    "# 시작 3 끝 3 중간 3\n",
    "\n",
    "#### 길이가 절반으로 계속 줄어든다 N/2/.../2 = N = 2^k = k = log2N ####\n",
    "# 시간복잡도를 계산할 때 계수는 다 없앰-> 2라는 상수를 때면 O(log2N) = O(logN)\n",
    "\n",
    "def binary_search(lst, N, K):\n",
    "    lo, hi = 0, N-1\n",
    "    while lo <= hi:\n",
    "        mid = (lo + hi) //2\n",
    "        if lst[mid] == K:\n",
    "            return True\n",
    "        if lst[mid] > K:\n",
    "            hi = mid-1\n",
    "        else:\n",
    "            lo = mid + 1\n",
    "    return False\n",
    "\n",
    "print(binary_search([1,3,5,6,8,9,8], 6, 9))"
   ]
  },
  {
   "cell_type": "code",
   "execution_count": null,
   "metadata": {},
   "outputs": [],
   "source": [
    "# o(n2)\n",
    "\n",
    "# O(n2)은 2차 복잡도(quadratic complexity)라고 부르며, 입력값이 증가함에 따라 시간이 n의 제곱수의 비율로 증가하는 것을 의미한다.\n",
    "# 예를 들어 입력값이 1일 경우 1초가 걸리던 알고리즘에 5라는 값을 주었더니 25초가 걸리게 된다면, 이 알고리즘의 시간 복잡도는 O(n2)라고 표현한다.\n"
   ]
  }
 ],
 "metadata": {
  "kernelspec": {
   "display_name": "base",
   "language": "python",
   "name": "python3"
  },
  "language_info": {
   "codemirror_mode": {
    "name": "ipython",
    "version": 3
   },
   "file_extension": ".py",
   "mimetype": "text/x-python",
   "name": "python",
   "nbconvert_exporter": "python",
   "pygments_lexer": "ipython3",
   "version": "3.9.13"
  },
  "orig_nbformat": 4
 },
 "nbformat": 4,
 "nbformat_minor": 2
}
