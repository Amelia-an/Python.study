{
 "cells": [
  {
   "attachments": {},
   "cell_type": "markdown",
   "metadata": {},
   "source": [
    "# **Quiz 1. 중복되는 항목찾기2**\n",
    "\n",
    "(N + 1)의 크기인 리스트에, 1부터 N까지의 임의의 자연수가 요소로 할당되어 있습니다. 그렇다면 어떤 수는 꼭 한 번은 반복되겠지요.\n",
    "\n",
    "예를 들어 [1, 3, 4, 2, 5, 4]와 같은 리스트 있을 수도 있고, [1, 1, 1, 6, 2, 2, 3]과 같은 리스트가 있을 수도 있습니다. (몇 개의 수가 여러 번 중복되어 있을 수도 있습니다.)\n",
    "\n",
    "이러한 리스트에서 반복되는 요소를 찾아내려고 합니다.\n",
    "\n",
    "중복되는 어떠한 수 ‘하나’만 찾아내도 됩니다. 즉 [1, 1, 1, 6, 2, 2, 3]의 예시에서 1, 2를 모두 리턴하지 않고, 1 또는 2 하나만 리턴하게 하면 됩니다.\n",
    "\n",
    "저번 과제에서는 사전을 정의해서 문제를 푸는 방법을 사용했는데요, 이번 과제에서는 두 가지의 제약이 있습니다.\n",
    "\n",
    "1. **O(n) 이상의 공간을 사용할 수 없습니다. 즉 사전이나 리스트와 같이 인풋 리스트의 길이에 비례하는 공간 저장 도구를 사용할 수 없습니다!**\n",
    "2.  **인풋으로 받는 리스트 some_list의 요소들을 바꾸거나 변형할 수 없습니다.**\n",
    "\n",
    "전에 풀었던 같은 문제를 다른 제약들이 걸려 있는 상황에서 풀어 보세요."
   ]
  },
  {
   "cell_type": "code",
   "execution_count": 7,
   "metadata": {},
   "outputs": [
    {
     "name": "stdout",
     "output_type": "stream",
     "text": [
      "3\n",
      "5\n",
      "3\n"
     ]
    }
   ],
   "source": [
    "def find_same_number(some_list):\n",
    "    # 필요한 경우, start와 end를 옵셔널 파라미터로 만들어도 됩니다.\n",
    "    # 여기에 코드를 작성하세요\n",
    "    length = len(some_list)\n",
    "    start = 1\n",
    "    end = length - 1\n",
    "   \n",
    "    while start < end:\n",
    "        mid_num = (start+end) // 2\n",
    "        left = 0\n",
    "        right = 0\n",
    "\n",
    "        for i in some_list:\n",
    "            if i <= mid_num:\n",
    "                left += 1\n",
    "            elif i > mid_num:\n",
    "                right += 1\n",
    "       \n",
    "        if left > mid_num:\n",
    "            end = mid_num\n",
    "        else:\n",
    "            start = mid_num+1\n",
    "   \n",
    "    return start\n",
    "\n",
    "print(find_same_number([1, 4, 3, 5, 3, 2]))\n",
    "print(find_same_number([4, 1, 5, 2, 3, 5]))\n",
    "print(find_same_number([5, 2, 3, 4, 1, 6, 7, 8, 9, 3]))"
   ]
  },
  {
   "cell_type": "code",
   "execution_count": 9,
   "metadata": {},
   "outputs": [
    {
     "name": "stdout",
     "output_type": "stream",
     "text": [
      "None\n",
      "None\n",
      "None\n"
     ]
    }
   ],
   "source": [
    "# 모범 답안\n",
    "\n",
    "def find_same_number(some_list, start = 1, end = None):\n",
    "    if end == None:\n",
    "        end = len(some_list)\n",
    "\n",
    "        #반복 요소를 찾으면 리턴\n",
    "        if start == end:\n",
    "            return start\n",
    "        \n",
    "        # 증간 지점을 구한다.\n",
    "        mid = (start + end)//2\n",
    "\n",
    "        # 왼 쪽 범위의 숫자를 센고 오른 쪽은 리스트 길이에서 왼 쪽 길이를 빼면 되기 때문에 세지 않음.\n",
    "        left_count = 0\n",
    "\n",
    "        for element in some_list:\n",
    "            if start <= element and element <= mid:\n",
    "                left_count += 1\n",
    "\n",
    "        # 왼쪽과 오른쪽 범위 중 과반 수 이상의 숫자가 있는 범위 내에서 탐색을 다시한다.\n",
    "        if left_count > mid - start + 1:\n",
    "            return find_same_number(some_list, start, mid)\n",
    "        \n",
    "        return find_same_number(some_list, mid + 1, end)\n",
    "    \n",
    "print(find_same_number([1, 4, 3, 5, 3, 2]))\n",
    "print(find_same_number([4, 1, 5, 2, 3, 5]))\n",
    "print(find_same_number([5, 2, 3, 4, 1, 6, 7, 8, 9, 3]))\n"
   ]
  },
  {
   "cell_type": "code",
   "execution_count": 14,
   "metadata": {},
   "outputs": [
    {
     "name": "stdout",
     "output_type": "stream",
     "text": [
      "3\n",
      "5\n",
      "3\n"
     ]
    }
   ],
   "source": [
    "def find_same_number(some_list, start = 1, end = None):\n",
    "    if end == None:\n",
    "        end = len(some_list)\n",
    "\n",
    "    # 반복 요소를 찾으면 리턴한다\n",
    "    if start == end:\n",
    "        return start\n",
    "\n",
    "    # 중간 지점을 구한다\n",
    "    mid = (start + end) // 2\n",
    "\n",
    "    # 왼쪽 범위의 숫자를 센다. 오른쪽은 리스트 길이에서 왼쪽 길이를 빼면 되기 때문에 세지 않는다\n",
    "    left_count = 0\n",
    "\n",
    "    for element in some_list:\n",
    "        if start <= element and element <= mid:\n",
    "            left_count += 1\n",
    "\n",
    "    # 왼쪽과 오른쪽 범위중 과반 수 이상의 숫자가 있는 범위 내에서 탐색을 다시한다\n",
    "    if left_count > mid - start + 1:\n",
    "        return find_same_number(some_list, start, mid)\n",
    "\n",
    "    return find_same_number(some_list, mid + 1, end)\n",
    "\n",
    "print(find_same_number([1, 4, 3, 5, 3, 2]))\n",
    "print(find_same_number([4, 1, 5, 2, 3, 5]))\n",
    "print(find_same_number([5, 2, 3, 4, 1, 6, 7, 8, 9, 3]))\n",
    "\n",
    "# 인풋 리스트의 길이를 n이라고 했을 때 탐색 범위를 줄일 때마다 리스트의 모든 요소 n개를 돌면서 두 개의 범위 안에 있는 자연수의 개수를 세고있기때문에 리스트를 한 번 돌때마다 시간 복잡도는 O(n)\n",
    "# 범위의 크기는 n/2에서 시작해서 계속 반으로 줄어듭니다. 최악의 경우 범위가 자연수 하나가 되는 데까지 O(lg(n))\n",
    "# 범위가 줄어들 때마다 O(n)의 작업을 하고, 범위는 최악의 경우 총 O(lg(n))번 줄어들기 때문에 최종 시간 복잡도는 O(nlg(n))이 됨."
   ]
  },
  {
   "attachments": {},
   "cell_type": "markdown",
   "metadata": {},
   "source": [
    "# Quiz 2. 리스트 항목 합 탐색.\n",
    "\n",
    "[1, 2, 5, 6, 7, 9, 11] 안에 합이 15가 되는 두 요소의 조합이 있는지 확인하고 싶습니다. 두 요소 6과 9의 합이 15가 되죠? 이 조합이 있는지 없는지를 알고 싶은 거죠.\n",
    "\n",
    "**템플릿 코드 설명**\n",
    "\n",
    "함수 sum_in_list()는 정수 search_sum과 정렬된 정수 리스트 sorted_list를 받아서 sorted_list안의 두 요소의 합이 search_sum이 되는 조합이 있는지 없는지를 불린으로 리턴합니다.\n",
    "\n",
    "sum_in_list(15, [1, 2, 5, 6, 7, 9, 11])은 불린 True를 리턴합니다."
   ]
  },
  {
   "cell_type": "code",
   "execution_count": null,
   "metadata": {},
   "outputs": [],
   "source": [
    "def sum_in_list(search_sum, sorted_list):\n",
    "    \n",
    "\n",
    "\n",
    "print(sum_in_list(15, [1, 2, 5, 6, 7, 9, 11]))\n",
    "print(sum_in_list(15, [1, 2, 5, 7, 9, 11]))"
   ]
  }
 ],
 "metadata": {
  "kernelspec": {
   "display_name": "base",
   "language": "python",
   "name": "python3"
  },
  "language_info": {
   "name": "python",
   "version": "3.9.13"
  },
  "orig_nbformat": 4
 },
 "nbformat": 4,
 "nbformat_minor": 2
}
