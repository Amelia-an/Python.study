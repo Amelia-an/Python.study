{
 "cells": [
  {
   "attachments": {},
   "cell_type": "markdown",
   "metadata": {},
   "source": [
    "# **Quiz 1. 중복되는 항목찾기2**\n",
    "\n",
    "(N + 1)의 크기인 리스트에, 1부터 N까지의 임의의 자연수가 요소로 할당되어 있습니다. 그렇다면 어떤 수는 꼭 한 번은 반복되겠지요.\n",
    "\n",
    "예를 들어 [1, 3, 4, 2, 5, 4]와 같은 리스트 있을 수도 있고, [1, 1, 1, 6, 2, 2, 3]과 같은 리스트가 있을 수도 있습니다. (몇 개의 수가 여러 번 중복되어 있을 수도 있습니다.)\n",
    "\n",
    "이러한 리스트에서 반복되는 요소를 찾아내려고 합니다.\n",
    "\n",
    "중복되는 어떠한 수 ‘하나’만 찾아내도 됩니다. 즉 [1, 1, 1, 6, 2, 2, 3]의 예시에서 1, 2를 모두 리턴하지 않고, 1 또는 2 하나만 리턴하게 하면 됩니다.\n",
    "\n",
    "저번 과제에서는 사전을 정의해서 문제를 푸는 방법을 사용했는데요, 이번 과제에서는 두 가지의 제약이 있습니다.\n",
    "\n",
    "1. **O(n) 이상의 공간을 사용할 수 없습니다. 즉 사전이나 리스트와 같이 인풋 리스트의 길이에 비례하는 공간 저장 도구를 사용할 수 없습니다!**\n",
    "2.  **인풋으로 받는 리스트 some_list의 요소들을 바꾸거나 변형할 수 없습니다.**\n",
    "\n",
    "전에 풀었던 같은 문제를 다른 제약들이 걸려 있는 상황에서 풀어 보세요."
   ]
  },
  {
   "cell_type": "code",
   "execution_count": 7,
   "metadata": {},
   "outputs": [
    {
     "name": "stdout",
     "output_type": "stream",
     "text": [
      "3\n",
      "5\n",
      "3\n"
     ]
    }
   ],
   "source": [
    "def find_same_number(some_list):\n",
    "    # 필요한 경우, start와 end를 옵셔널 파라미터로 만들어도 됩니다.\n",
    "    # 여기에 코드를 작성하세요\n",
    "    length = len(some_list)\n",
    "    start = 1\n",
    "    end = length - 1\n",
    "   \n",
    "    while start < end:\n",
    "        mid_num = (start+end) // 2\n",
    "        left = 0\n",
    "        right = 0\n",
    "\n",
    "        for i in some_list:\n",
    "            if i <= mid_num:\n",
    "                left += 1\n",
    "            elif i > mid_num:\n",
    "                right += 1\n",
    "       \n",
    "        if left > mid_num:\n",
    "            end = mid_num\n",
    "        else:\n",
    "            start = mid_num+1\n",
    "   \n",
    "    return start\n",
    "\n",
    "print(find_same_number([1, 4, 3, 5, 3, 2]))\n",
    "print(find_same_number([4, 1, 5, 2, 3, 5]))\n",
    "print(find_same_number([5, 2, 3, 4, 1, 6, 7, 8, 9, 3]))"
   ]
  },
  {
   "cell_type": "code",
   "execution_count": 9,
   "metadata": {},
   "outputs": [
    {
     "name": "stdout",
     "output_type": "stream",
     "text": [
      "None\n",
      "None\n",
      "None\n"
     ]
    }
   ],
   "source": [
    "# 모범 답안\n",
    "\n",
    "def find_same_number(some_list, start = 1, end = None):\n",
    "    if end == None:\n",
    "        end = len(some_list)\n",
    "\n",
    "        #반복 요소를 찾으면 리턴\n",
    "        if start == end:\n",
    "            return start\n",
    "        \n",
    "        # 증간 지점을 구한다.\n",
    "        mid = (start + end)//2\n",
    "\n",
    "        # 왼 쪽 범위의 숫자를 센고 오른 쪽은 리스트 길이에서 왼 쪽 길이를 빼면 되기 때문에 세지 않음.\n",
    "        left_count = 0\n",
    "\n",
    "        for element in some_list:\n",
    "            if start <= element and element <= mid:\n",
    "                left_count += 1\n",
    "\n",
    "        # 왼쪽과 오른쪽 범위 중 과반 수 이상의 숫자가 있는 범위 내에서 탐색을 다시한다.\n",
    "        if left_count > mid - start + 1:\n",
    "            return find_same_number(some_list, start, mid)\n",
    "        \n",
    "        return find_same_number(some_list, mid + 1, end)\n",
    "    \n",
    "print(find_same_number([1, 4, 3, 5, 3, 2]))\n",
    "print(find_same_number([4, 1, 5, 2, 3, 5]))\n",
    "print(find_same_number([5, 2, 3, 4, 1, 6, 7, 8, 9, 3]))\n"
   ]
  },
  {
   "cell_type": "code",
   "execution_count": 14,
   "metadata": {},
   "outputs": [
    {
     "name": "stdout",
     "output_type": "stream",
     "text": [
      "3\n",
      "5\n",
      "3\n"
     ]
    }
   ],
   "source": [
    "def find_same_number(some_list, start = 1, end = None):\n",
    "    if end == None:\n",
    "        end = len(some_list)\n",
    "\n",
    "    # 반복 요소를 찾으면 리턴한다\n",
    "    if start == end:\n",
    "        return start\n",
    "\n",
    "    # 중간 지점을 구한다\n",
    "    mid = (start + end) // 2\n",
    "\n",
    "    # 왼쪽 범위의 숫자를 센다. 오른쪽은 리스트 길이에서 왼쪽 길이를 빼면 되기 때문에 세지 않는다\n",
    "    left_count = 0\n",
    "\n",
    "    for element in some_list:\n",
    "        if start <= element and element <= mid:\n",
    "            left_count += 1\n",
    "\n",
    "    # 왼쪽과 오른쪽 범위중 과반 수 이상의 숫자가 있는 범위 내에서 탐색을 다시한다\n",
    "    if left_count > mid - start + 1:\n",
    "        return find_same_number(some_list, start, mid)\n",
    "\n",
    "    return find_same_number(some_list, mid + 1, end)\n",
    "\n",
    "print(find_same_number([1, 4, 3, 5, 3, 2]))\n",
    "print(find_same_number([4, 1, 5, 2, 3, 5]))\n",
    "print(find_same_number([5, 2, 3, 4, 1, 6, 7, 8, 9, 3]))\n",
    "\n",
    "# 인풋 리스트의 길이를 n이라고 했을 때 탐색 범위를 줄일 때마다 리스트의 모든 요소 n개를 돌면서 두 개의 범위 안에 있는 자연수의 개수를 세고있기때문에 리스트를 한 번 돌때마다 시간 복잡도는 O(n)\n",
    "# 범위의 크기는 n/2에서 시작해서 계속 반으로 줄어듭니다. 최악의 경우 범위가 자연수 하나가 되는 데까지 O(lg(n))\n",
    "# 범위가 줄어들 때마다 O(n)의 작업을 하고, 범위는 최악의 경우 총 O(lg(n))번 줄어들기 때문에 최종 시간 복잡도는 O(nlg(n))이 됨."
   ]
  },
  {
   "attachments": {},
   "cell_type": "markdown",
   "metadata": {},
   "source": [
    "# Quiz 2. 리스트 항목 합 탐색.\n",
    "\n",
    "[1, 2, 5, 6, 7, 9, 11] 안에 합이 15가 되는 두 요소의 조합이 있는지 확인하고 싶습니다. 두 요소 6과 9의 합이 15가 되죠? 이 조합이 있는지 없는지를 알고 싶은 거죠.\n",
    "\n",
    "**템플릿 코드 설명**\n",
    "\n",
    "함수 sum_in_list()는 정수 search_sum과 정렬된 정수 리스트 sorted_list를 받아서 sorted_list안의 두 요소의 합이 search_sum이 되는 조합이 있는지 없는지를 불린으로 리턴합니다.\n",
    "\n",
    "sum_in_list(15, [1, 2, 5, 6, 7, 9, 11])은 불린 True를 리턴합니다."
   ]
  },
  {
   "cell_type": "code",
   "execution_count": 1,
   "metadata": {},
   "outputs": [
    {
     "name": "stdout",
     "output_type": "stream",
     "text": [
      "True\n",
      "False\n"
     ]
    }
   ],
   "source": [
    "def sum_in_list(search_sum, sorted_list):\n",
    "       \n",
    "    subTract_list = []\n",
    "    answer = False\n",
    "    for i in range(0, len(sorted_list)):\n",
    "        subTract_list.append(15 - sorted_list[i])\n",
    "        if i in subTract_list:\n",
    "            answer = True\n",
    "            break\n",
    "    return answer\n",
    "\n",
    "\n",
    "print(sum_in_list(15, [1, 2, 5, 6, 7, 9, 11]))\n",
    "print(sum_in_list(15, [1, 2, 5, 7, 9, 11]))"
   ]
  },
  {
   "cell_type": "code",
   "execution_count": 2,
   "metadata": {},
   "outputs": [
    {
     "name": "stdout",
     "output_type": "stream",
     "text": [
      "True\n",
      "False\n"
     ]
    }
   ],
   "source": [
    "# 1) brute force 접근법 사용 -->시간 복잡도가 O(n2)--> 리스트의 길이가 길어질수록 더 비효율적\n",
    "def sum_in_list(search_sum, sorted_list):\n",
    "    for i in range(len(sorted_list)):\n",
    "        for j in range(i, len(sorted_list)):\n",
    "            if sorted_list[i] + sorted_list[j] == search_sum:\n",
    "                return True\n",
    "    return False\n",
    "\n",
    "print(sum_in_list(15, [1, 2, 5, 6, 7, 9, 11]))\n",
    "print(sum_in_list(15, [1, 2, 5, 7, 9, 11]))\n",
    "\n"
   ]
  },
  {
   "cell_type": "code",
   "execution_count": 3,
   "metadata": {},
   "outputs": [
    {
     "name": "stdout",
     "output_type": "stream",
     "text": [
      "True\n",
      "False\n"
     ]
    }
   ],
   "source": [
    "# 모범 답안\n",
    "\n",
    "def sum_in_list(search_sum, sorted_list):\n",
    "    low = 0\n",
    "    high = len(sorted_list) - 1\n",
    "    \n",
    "    while low < high:\n",
    "        candidate_sum = sorted_list[low] + sorted_list[high]\n",
    "        \n",
    "        if candidate_sum == search_sum: # 합이 찾으려는 숫자일 때\n",
    "            return True\n",
    "        \n",
    "        if candidate_sum < search_sum:  # 합이 찾으려는 숫자보다 작을 때\n",
    "            low += 1\n",
    "        \n",
    "        else: # 합이 찾으려는 숫자보다 클 때\n",
    "            high -= 1\n",
    "    \n",
    "    # 찾는 조합이 없기 때문에 False 리턴\n",
    "    return False\n",
    "    \n",
    "# 테스트 코드\n",
    "print(sum_in_list(15, [1, 2, 5, 6, 7, 9, 11]))\n",
    "print(sum_in_list(15, [1, 2, 5, 7, 9, 11]))"
   ]
  },
  {
   "attachments": {},
   "cell_type": "markdown",
   "metadata": {},
   "source": [
    "# **Quiz 3. 강남역 폭우2**\n",
    "\n",
    "강남역에 엄청난 폭우가 쏟아진다고 가정합시다. 정말 재난 영화에서나 나올 법한 양의 비가 내려서, 고층 건물이 비에 잠길 정도입니다.\n",
    "\n",
    "그렇게 되었을 때, 건물과 건물 사이에 얼마큼의 빗물이 담길 수 있는지 알고 싶은데요. 그것을 계산해 주는 함수 trapping_rain()을 작성해 보려고 합니다.\n",
    "\n",
    "함수 trapping_rain()은 건물 높이 정보를 보관하는 리스트 buildings를 파라미터로 받고, 담기는 빗물의 총량을 리턴해 줍니다.\n",
    "\n",
    "예를 들어서 파라미터 buildings로 [3, 0, 0, 2, 0, 4]가 들어왔다고 합시다. 그러면 0번 인덱스에 높이 \n",
    "\n",
    "3의 건물이, 3번 인덱스에 높이 \n",
    "\n",
    "2의 건물이, 5번 인덱스에 높이 \n",
    "\n",
    "4의 건물이 있다는 뜻입니다. 1번, 2번, 4번 인덱스에는 건물이 없습니다.\n",
    "\n",
    "그러면 아래의 사진에 따라 총 \n",
    "10 만큼의 빗물이 담길 수 있습니다. 따라서 trapping_rain() 함수는 10을 리턴하는 거죠.\n",
    "\n",
    "3차원 말고, 2차원으로 생각해 주세요!\n",
    "\n",
    "이번에는 파라미터 buildings로 [0, 1, 0, 2, 1, 0, 1, 3, 2, 1, 2, 1]가 들어왔다고 합시다. 그러면 아래의 사진에 따라 총 \n",
    "6 만큼의 빗물이 담길 수 있습니다. 따라서 trapping_rain() 함수는 6을 리턴하는 거죠.\n",
    "\n",
    "\n",
    "\n",
    "**리스트 [0, 1, 0, 2, 1, 0, 1, 3, 2, 1, 2, 1]**\n",
    "\n",
    "**이 정보를 기반으로, trapping_rain() 함수를 작성해 보세요!**\n",
    "\n",
    "**Brute Force 단원에서는 이 문제를 시간 복잡도 O(n2)로 풀었는데요, 더 많은 공간을 쓰더라도 조금 더 효율적인 시간 복잡도로 문제를 풀어 볼까요?**"
   ]
  },
  {
   "cell_type": "code",
   "execution_count": 4,
   "metadata": {},
   "outputs": [
    {
     "name": "stdout",
     "output_type": "stream",
     "text": [
      "10\n",
      "6\n"
     ]
    }
   ],
   "source": [
    "def trapping_rain(buildings):\n",
    "    left_list = [buildings[0]]\n",
    "\n",
    "    for i in range(1, len(buildings) - 1):\n",
    "        left_list.append(max(buildings[i], left_list[i - 1]))\n",
    "        right_list = [buildings[-1]]\n",
    "\n",
    "    for i in range(-2, -len(buildings), -1):\n",
    "        right_list.insert(0, max(buildings[i], right_list[i + 1]))\n",
    "        total_height = 0 \n",
    "\n",
    "    for i in range(1, len(buildings) - 1):\n",
    "        \n",
    "        if min(left_list[i], right_list[i]) - buildings[i] < 0:\n",
    "            total_height += 0\n",
    "\n",
    "        else:\n",
    "            total_height += min(left_list[i], right_list[i]) - buildings[i]\n",
    "   \n",
    "    return total_height\n",
    "\n",
    "print(trapping_rain([3, 0, 0, 2, 0, 4]))\n",
    "print(trapping_rain([0, 1, 0, 2, 1, 0, 1, 3, 2, 1, 2, 1]))"
   ]
  },
  {
   "cell_type": "code",
   "execution_count": 5,
   "metadata": {},
   "outputs": [
    {
     "name": "stdout",
     "output_type": "stream",
     "text": [
      "10\n",
      "6\n"
     ]
    }
   ],
   "source": [
    "def trapping_rain(buildings):\n",
    "    left_max = 0\n",
    "    right_max = 1 \n",
    "    i = 1 \n",
    "    sum = 0\n",
    "    tmp = 0\n",
    "    # right_max 가 맨 끝이 아닐 경우\n",
    "    tmp2 = 0 \n",
    "    # 만약 가장 높은 건물에서 끝나지 않을 경우 right_max까지의 \n",
    "    # 건물 높이를 누적할 변수 left_max이상인 건물을 만났을 때 적용할 최종 누적량\n",
    "    while(i < len(buildings)): \n",
    "        if buildings[i] >= buildings[left_max]: #left_max꺼 보다 큰 건물\n",
    "            tmp2 += tmp # 마지막 틈새까지 합을 더함\n",
    "            sum += buildings[left_max] * (i - left_max - 1) - tmp2 \n",
    "            # buildings[i]가 left_max이상이면 right_max와 같은 의미이므로\n",
    "            # 둘중 작은 left_max의 높이 * 사이의 공간 수 - 누적된 건물 높이를 빼면 \n",
    "            # 물이 채워지는 공간의 양이다.\n",
    "            left_max = i\n",
    "            right_max = i + 1\n",
    "            tmp2 = 0\n",
    "            tmp = 0\n",
    "        else:#left_max 보다 작은 건물일때\n",
    "            if buildings[i] >= buildings[right_max]: # right_max 이상인 건물일때\n",
    "                right_max = i # right_max 인덱스 값을 갱신\n",
    "                tmp2 += tmp # \n",
    "                tmp = buildings[i] \n",
    "            else: # right_max 보다 작은 건물일 때\n",
    "                tmp += buildings[i] #right_max 이상인 건물일 때 tmp2에 더할 건물 높이 누적을 더함\n",
    "        i += 1\n",
    "    if right_max != len(buildings): #right_max가 배열 중간에 있을 때\n",
    "        sum += buildings[right_max] * (right_max - left_max - 1) - tmp2            \n",
    "    return sum \n",
    "    \n",
    "# 테스트\n",
    "print(trapping_rain([3, 0, 0, 2, 0, 4]))\n",
    "print(trapping_rain([0, 1, 0, 2, 1, 0, 1, 3, 2, 1, 2, 1]))"
   ]
  },
  {
   "cell_type": "code",
   "execution_count": 6,
   "metadata": {},
   "outputs": [
    {
     "name": "stdout",
     "output_type": "stream",
     "text": [
      "10\n",
      "6\n"
     ]
    }
   ],
   "source": [
    "def trapping_rain(buildings):\n",
    "  # 최대 높이가 증가 혹은 유지되는지 판별, 아니라면 우상향 모습으로 재귀함수 한번만 호출\n",
    "\n",
    "  max_height = 0\n",
    "\n",
    "  for i, v in enumerate(buildings):\n",
    "\n",
    "    if max_height <= v:\n",
    "       max_height = v\n",
    "       index = i\n",
    "\n",
    "  if max_height != buildings[-1]:\n",
    "\n",
    "    return trapping_rain(buildings[:index+1]) + trapping_rain(list(reversed(buildings[index:])))\n",
    "  \n",
    "  max = 0   # 왼쪽 벽 높이\n",
    "  tmp = 0   # 왼쪽 벽부터 임시저장하는 물\n",
    "  sum = 0   # 임시 저장된 물이 오른쪽 벽을 만나면 확실하게 저장함\n",
    "\n",
    "  for i in buildings:\n",
    "\n",
    "    if i < max:\n",
    "      tmp += max - i\n",
    "\n",
    "    else:\n",
    "      max = i\n",
    "      sum += tmp\n",
    "      tmp = 0\n",
    "\n",
    "  return sum\n",
    "\n",
    "print(trapping_rain([3, 0, 0, 2, 0, 4]))\n",
    "print(trapping_rain([0, 1, 0, 2, 1, 0, 1, 3, 2, 1, 2, 1]))"
   ]
  },
  {
   "cell_type": "code",
   "execution_count": 9,
   "metadata": {},
   "outputs": [
    {
     "ename": "NameError",
     "evalue": "name 'lem' is not defined",
     "output_type": "error",
     "traceback": [
      "\u001b[1;31m---------------------------------------------------------------------------\u001b[0m",
      "\u001b[1;31mNameError\u001b[0m                                 Traceback (most recent call last)",
      "\u001b[1;32m~\\AppData\\Local\\Temp\\ipykernel_2760\\2276584735.py\u001b[0m in \u001b[0;36m<module>\u001b[1;34m\u001b[0m\n\u001b[0;32m     17\u001b[0m     \u001b[1;32mreturn\u001b[0m \u001b[0mtotal_height\u001b[0m\u001b[1;33m\u001b[0m\u001b[1;33m\u001b[0m\u001b[0m\n\u001b[0;32m     18\u001b[0m \u001b[1;33m\u001b[0m\u001b[0m\n\u001b[1;32m---> 19\u001b[1;33m \u001b[0mprint\u001b[0m\u001b[1;33m(\u001b[0m\u001b[0mtrapping_rain\u001b[0m\u001b[1;33m(\u001b[0m\u001b[1;33m[\u001b[0m\u001b[1;36m3\u001b[0m\u001b[1;33m,\u001b[0m \u001b[1;36m0\u001b[0m\u001b[1;33m,\u001b[0m \u001b[1;36m0\u001b[0m\u001b[1;33m,\u001b[0m \u001b[1;36m2\u001b[0m\u001b[1;33m,\u001b[0m \u001b[1;36m0\u001b[0m\u001b[1;33m,\u001b[0m \u001b[1;36m4\u001b[0m\u001b[1;33m]\u001b[0m\u001b[1;33m)\u001b[0m\u001b[1;33m)\u001b[0m\u001b[1;33m\u001b[0m\u001b[1;33m\u001b[0m\u001b[0m\n\u001b[0m\u001b[0;32m     20\u001b[0m \u001b[0mprint\u001b[0m\u001b[1;33m(\u001b[0m\u001b[0mtrapping_rain\u001b[0m\u001b[1;33m(\u001b[0m\u001b[1;33m[\u001b[0m\u001b[1;36m0\u001b[0m\u001b[1;33m,\u001b[0m \u001b[1;36m1\u001b[0m\u001b[1;33m,\u001b[0m \u001b[1;36m0\u001b[0m\u001b[1;33m,\u001b[0m \u001b[1;36m2\u001b[0m\u001b[1;33m,\u001b[0m \u001b[1;36m1\u001b[0m\u001b[1;33m,\u001b[0m \u001b[1;36m0\u001b[0m\u001b[1;33m,\u001b[0m \u001b[1;36m1\u001b[0m\u001b[1;33m,\u001b[0m \u001b[1;36m3\u001b[0m\u001b[1;33m,\u001b[0m \u001b[1;36m2\u001b[0m\u001b[1;33m,\u001b[0m \u001b[1;36m1\u001b[0m\u001b[1;33m,\u001b[0m \u001b[1;36m2\u001b[0m\u001b[1;33m,\u001b[0m \u001b[1;36m1\u001b[0m\u001b[1;33m]\u001b[0m\u001b[1;33m)\u001b[0m\u001b[1;33m)\u001b[0m\u001b[1;33m\u001b[0m\u001b[1;33m\u001b[0m\u001b[0m\n",
      "\u001b[1;32m~\\AppData\\Local\\Temp\\ipykernel_2760\\2276584735.py\u001b[0m in \u001b[0;36mtrapping_rain\u001b[1;34m(buildings)\u001b[0m\n\u001b[0;32m      6\u001b[0m \u001b[1;33m\u001b[0m\u001b[0m\n\u001b[0;32m      7\u001b[0m     \u001b[1;31m# 리스트의 각 인덱스를 돌면서 해당 칸에 담기는 빗물의 양을 구함\u001b[0m\u001b[1;33m\u001b[0m\u001b[1;33m\u001b[0m\u001b[0m\n\u001b[1;32m----> 8\u001b[1;33m     \u001b[1;32mfor\u001b[0m \u001b[0mi\u001b[0m \u001b[1;32min\u001b[0m \u001b[0mrange\u001b[0m \u001b[1;33m(\u001b[0m\u001b[1;36m1\u001b[0m\u001b[1;33m,\u001b[0m \u001b[0mlem\u001b[0m\u001b[1;33m(\u001b[0m\u001b[0mbuildings\u001b[0m\u001b[1;33m)\u001b[0m\u001b[1;33m-\u001b[0m\u001b[1;36m1\u001b[0m\u001b[1;33m)\u001b[0m\u001b[1;33m:\u001b[0m \u001b[1;31m# 0번 인덱스와 마지막 인덱스는 볼 필요 없다.\u001b[0m\u001b[1;33m\u001b[0m\u001b[1;33m\u001b[0m\u001b[0m\n\u001b[0m\u001b[0;32m      9\u001b[0m         \u001b[0mmax_left\u001b[0m \u001b[1;33m=\u001b[0m \u001b[0mmax\u001b[0m\u001b[1;33m(\u001b[0m\u001b[0mbuildings\u001b[0m\u001b[1;33m[\u001b[0m\u001b[1;33m:\u001b[0m\u001b[0mi\u001b[0m\u001b[1;33m]\u001b[0m\u001b[1;33m)\u001b[0m \u001b[1;31m# 현재 인덱스를 기준으로 양쪽에 가장 높은 건물의 위치 구함\u001b[0m\u001b[1;33m\u001b[0m\u001b[1;33m\u001b[0m\u001b[0m\n\u001b[0;32m     10\u001b[0m         \u001b[0mmax_right\u001b[0m \u001b[1;33m=\u001b[0m \u001b[0mmax\u001b[0m\u001b[1;33m(\u001b[0m\u001b[0mbuildings\u001b[0m\u001b[1;33m[\u001b[0m\u001b[0mi\u001b[0m\u001b[1;33m+\u001b[0m\u001b[1;36m1\u001b[0m\u001b[1;33m:\u001b[0m\u001b[1;36m1\u001b[0m\u001b[1;33m]\u001b[0m\u001b[1;33m)\u001b[0m\u001b[1;33m\u001b[0m\u001b[1;33m\u001b[0m\u001b[0m\n",
      "\u001b[1;31mNameError\u001b[0m: name 'lem' is not defined"
     ]
    }
   ],
   "source": [
    "# brute force 접근법 사용\n",
    "\n",
    "def trapping_rain(buildings):\n",
    "    # 총 담기는 빗물의 양을 변수에 저장\n",
    "    total_height = 0\n",
    "\n",
    "    # 리스트의 각 인덱스를 돌면서 해당 칸에 담기는 빗물의 양을 구함\n",
    "    for i in range (1, lem(buildings)-1): # 0번 인덱스와 마지막 인덱스는 볼 필요 없다.\n",
    "        max_left = max(buildings[:i]) # 현재 인덱스를 기준으로 양쪽에 가장 높은 건물의 위치 구함\n",
    "        max_right = max(buildings[i+1:1])\n",
    "\n",
    "        upper_bound = min(max_left, max_right) # 현재 인덱스에 빗물이 담길 수 있는 높이\n",
    "\n",
    "        # 현재 인덱스에 담기는 빗물의 양을 계산\n",
    "        total_height += max(0, upper_bound - buildings[i]) # 만약 upper_bound가 현재 인덱스 건물보다 높지 않다면, 현재 인덱스에 담기는 빗물은 0\n",
    "\n",
    "    return total_height\n",
    "    \n",
    "print(trapping_rain([3, 0, 0, 2, 0, 4]))\n",
    "print(trapping_rain([0, 1, 0, 2, 1, 0, 1, 3, 2, 1, 2, 1]))"
   ]
  },
  {
   "cell_type": "markdown",
   "metadata": {},
   "source": []
  }
 ],
 "metadata": {
  "kernelspec": {
   "display_name": "base",
   "language": "python",
   "name": "python3"
  },
  "language_info": {
   "codemirror_mode": {
    "name": "ipython",
    "version": 3
   },
   "file_extension": ".py",
   "mimetype": "text/x-python",
   "name": "python",
   "nbconvert_exporter": "python",
   "pygments_lexer": "ipython3",
   "version": "3.9.13"
  },
  "orig_nbformat": 4
 },
 "nbformat": 4,
 "nbformat_minor": 2
}
