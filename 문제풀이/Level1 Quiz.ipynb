{
 "cells": [
  {
   "attachments": {},
   "cell_type": "markdown",
   "metadata": {},
   "source": [
    "# **QUIZ 1. 투자 귀재 규식이**\n",
    "\n",
    "규식이는 친구들 사이에서 투자의 귀재로 알려져 있습니다. 페이수북과 인수타그램에 자신의 성과를 과시하기 때문인데요. 사실 규식이가 그 정도의 실력자는 아닙니다. 성과가 좋을 때에만 SNS에 공유해서 그렇게 비춰질 뿐이죠.\n",
    "\n",
    "계속해서 멋진 모습을 보여주기 위해, 특정 기간 중 수익이 가장 큰 구간을 찾아내는 함수 sublist_max()를 작성해 보려고 합니다.\n",
    "\n",
    "Brute Force 방법을 이용해서 이 문제를 한번 풀어 봅시다!\n",
    "\n",
    "\n",
    "\n",
    "$$\n",
    "**함수설명**\n",
    "$$\n",
    "\n",
    "$$\n",
    "우선 함수 sublist_max()는 파라미터로 리스트 profits를 받는데요.\n",
    "$$\n",
    "$$\n",
    "profits = 며칠 동안의 수익 ex// profits가 [7, -3, 4, -8]이라면 첫 날에는 7달러를 벌었고, 둘째 날에는 3달러를 잃었고, 셋째 날에는 4달러를 벌었고, 마지막 날에는 8달러를 잃은 거죠.\n",
    "$$\n",
    "$$\n",
    "sublist_max() 함수는 profits에서 최대 수익을 내는 구간의 수익을 리턴\n",
    "$$\n",
    "$$\n",
    "profits가 [7, -3, 4, -8]이라면 무엇을 리턴해야 할까요? profits에서 가장 많은 수익을 낸 구간은 [7, -3, 4]입니다. 이 구간에서 낸 수익은 8달러이니, 8을 리턴하면 되겠죠!\n",
    "$$\n",
    "$$\n",
    "만약 profits가 [-2, -3, 4, -1, -2, 1, 5, -3]이라면? profits에서 수익이 가장 큰 구간은 [4, -1, -2, 1, 5]입니다. 이 구간에서 낸 수익은 7달러이니, 7을 리턴\n",
    "\n",
    "\n"
   ]
  },
  {
   "cell_type": "code",
   "execution_count": 6,
   "metadata": {},
   "outputs": [
    {
     "name": "stdout",
     "output_type": "stream",
     "text": [
      "15\n",
      "8\n",
      "27\n"
     ]
    }
   ],
   "source": [
    "def sublist_max(profits):\n",
    "\n",
    "    sublist_max = profits[0] \n",
    "    max_i = len(profits) \n",
    "\n",
    "    for i in range(max_i):\n",
    "\n",
    "        for j in range(max_i):\n",
    "\n",
    "            sublist_max = max(sum(profits[i:j+1]), sublist_max)\n",
    "\n",
    "    return sublist_max\n",
    " \n",
    "     \n",
    "print(sublist_max([4, 3, 8, -2, -5, -3, -5, -3]))\n",
    "print(sublist_max([2, 3, 1, -1, -2, 5, -1, -1]))\n",
    "print(sublist_max([7, -3, 14, -8, -5, 6, 8, -5, -4, 10, -1, 8]))"
   ]
  },
  {
   "attachments": {},
   "cell_type": "markdown",
   "metadata": {},
   "source": [
    "# ****알고리즘 - 시간복잡도 기초****\n",
    "\n",
    "시간복잡도 : 시간X 조작 (연산)되는 함수 (공간복잡도는 사용하는 메모리)\n",
    "\n",
    "1. 빅-오메가 : 최선일 때(best case)의 연산 횟수를 나타낸 표기법\n",
    "2. 빅-세타 : 보통일 때(average case)의 연산 횟수를 나타낸 표기법\n",
    "3. 빅-오 : 최악일 때(worst case)의 연산 횟수를 나타낸 표기법"
   ]
  },
  {
   "cell_type": "code",
   "execution_count": 10,
   "metadata": {},
   "outputs": [
    {
     "name": "stdout",
     "output_type": "stream",
     "text": [
      "20\n"
     ]
    }
   ],
   "source": [
    "import random\n",
    "findNumber = random.randrange(1, 101) # 1~100 사이 랜덤값\n",
    "\n",
    "for i in range(1, 101):\n",
    "    if i == findNumber:\n",
    "        print(i)\n",
    "        break\n",
    "\n",
    "\n",
    "# 빅-오메가 -> 1번\n",
    "# 빅-세타 -> N/2번\n",
    "# 빅-오 -> N번"
   ]
  },
  {
   "attachments": {},
   "cell_type": "markdown",
   "metadata": {},
   "source": [
    "# **Quiz 2. 거듭 제곱 빠르게 계산하기**\n",
    "\n",
    "거듭 제곱을 계산하는 함수 power()를 작성하고 싶습니다. power()는 파라미터로 자연수 x와 자연수 y를 받고, \n",
    "x \n",
    "y\n",
    " 를 리턴합니다.\n",
    "\n",
    "가장 쉽게 생각할 수 있는 방법은 반복문으로 단순하게 \n",
    "x를 \n",
    "y번 곱해 주는 방법입니다."
   ]
  },
  {
   "cell_type": "code",
   "execution_count": 12,
   "metadata": {},
   "outputs": [
    {
     "name": "stdout",
     "output_type": "stream",
     "text": [
      "243\n",
      "15625\n",
      "40353607\n"
     ]
    }
   ],
   "source": [
    "# 시간 복잡도 O(y)\n",
    "\n",
    "def power(x, y):\n",
    "    total = 1 \n",
    "    \n",
    "    for i in range(y): # x를 y번 곱해준다\n",
    "        total *= x \n",
    "\n",
    "    return total\n",
    "\n",
    "# 위의 o(y) 반복문코딩을 재귀적으로 변환\n",
    "\n",
    "#def power(x,y):\n",
    "\n",
    "    if y == 0: # base case\n",
    "        return 1\n",
    "    #subreesult = power(x, y//2)\n",
    "\n",
    "    # Recursive case\n",
    "    return x * power(x, y-1)\n",
    "\n",
    "\n",
    "\n",
    "print(power(3, 5))\n",
    "print(power(5, 6))\n",
    "print(power(7, 9))"
   ]
  },
  {
   "cell_type": "code",
   "execution_count": 9,
   "metadata": {},
   "outputs": [
    {
     "name": "stdout",
     "output_type": "stream",
     "text": [
      "243\n",
      "15625\n",
      "40353607\n"
     ]
    }
   ],
   "source": [
    "# 시간복잡도 O(lgy)\n",
    "\n",
    "# 재귀적 o(Y) 문제크기를 1씩 줄여나감\n",
    "# o(lgy)는 문제를 나눠야함 ex) power(x, y-1) 대신 power(x,y//2)\n",
    "\n",
    "\n",
    "def power(x,y):\n",
    "    if y == 0:\n",
    "        return 1\n",
    "    \n",
    "    # 문제를 똑같은 크기의 문제 두 개로 나눠줌\n",
    "    # [return power(x, y//2) * power(x, y//2)]\n",
    "    # ex) 2의8승 -> 2의4승 2개 -> 2의 2승 4개 -> 2의 1승 8개 -> 2의 0승 16개\n",
    "    # 그러나 위의 코딩은 승이 짝수일 때만 올바르게 작동하므로 홀수의 경우도 같이 코딩해줘야지만 모든 경우의 수에 작동가능\n",
    "\n",
    "    #if y % 2 == 0: # % -> y를 2로 나누고 나머지 값이 0일 때 ----->한마디로 짝수인 경우\n",
    "        return power(x, y//2) * power(x, y//2) \n",
    "    #else:\n",
    "        return x * power(x, y//2) * power(x, y//2) # 승이 홀수인 경우애는 그냥 x를 한 번 더 곱해주면 됨\n",
    "    \n",
    "    # 2의 4승 * 2의 4승\n",
    "    # 2의 2승 * 2의 2승 * 2의 2승 * 2의 2승\n",
    "    # 2의 1승 * 2의 1승 * 2의 1승 * 2의 1승 * 2의 1승 * 2의 1승 * 2의 1승 * 2의 1승\n",
    "    # 결국 power(2, 1)을 8번 호출해야하고 추가적으로 power(2, 2), power(2, 4), power(2, 8)에 대한 호출이 몇 번씩 있기 때문에 위 코딩도 최소 O(y)이고, 전혀 개선되지 않았음\n",
    "\n",
    "    # power(2, 8)을 해결하기 위해서 power(2, 4)를 해결하면 되고, 이 똑같은 부분 문제를 두 번 계산해야함\n",
    "    # 이 문제는 Dynamic programing으로 해결가능\n",
    "\n",
    "\n",
    "    subresult = power(x, y//2) # 계산을 한 번만 하기 위해서 변수에 값을 저장\n",
    "\n",
    "    if y % 2 == 0:\n",
    "        return subresult * subresult\n",
    "    else:\n",
    "        return x * subresult * subresult\n",
    "\n",
    "\n",
    "# 2의 8승을 계산하기 위해 power(2, 8), (2, 4), (2, 2), (2, 1) 4번의 함수 호출이 발생\n",
    "# y가 8인 경우 4번 호출 32인 경우 6번 호출 즉, lg y + 1번 호출이므로 O(lg y + 1) 이기 때문에 이 알고리즘의 시간 복잡도는 O(lgy)임\n",
    "\n",
    "\n",
    "\n",
    "print(power(3, 5))\n",
    "print(power(5, 6))\n",
    "print(power(7, 9))\n"
   ]
  },
  {
   "attachments": {},
   "cell_type": "markdown",
   "metadata": {},
   "source": [
    "# **QUIZ 3. 빠르게 산 오르기**\n",
    "\n",
    "신입 사원 장그래는 마부장님을 따라 등산을 가게 되었습니다.\n",
    "\n",
    "탈수를 방지하기 위해서 1km당 1L의 물을 반드시 마셔야 하는데요. 다행히 등산길 곳곳에는 물통을 채울 수 있는 약수터가 마련되어 있습니다. 다만 매번 줄서 기다려야 한다는 번거로움이 있기 때문에, 시간을 아끼기 위해서는 최대한 적은 약수터를 들르고 싶습니다.\n",
    "\n",
    "함수 select_stops()는 파라미터로 약수터 위치 리스트 water_stops와 물통 용량 capacity를 받고, 장그래가 들를 약수터 위치 리스트를 리턴합니다. 앞서 설명한 대로 약수터는 최대한 적게 들러야겠죠.\n",
    "\n",
    "(탈수로 인해서 정상에 도달 하지 못하는 경우는 없다고 가정합니다.)\n",
    "\n",
    "참고로 모든 위치는 km 단위이고 용량은 L 단위입니다. 그리고 등산하기 전에는 이미 물통이 가득 채워져 있으며, 약수터에 들르면 늘 물통을 가득 채운다고 가정합시다.\n",
    "\n",
    "예시를 하나 볼게요.\n",
    "\n",
    "\n",
    "### 약수터 위치: [1km, 4km, 5km, 7km, 11km, 12km, 13km, 16km, 18km, 20km, 22km, 24km, 26km]\n",
    "### 물통 용량: 4L\n",
    "\n",
    "### select_stops([1, 4, 5, 7, 11, 12, 13, 16, 18, 20, 22, 24, 26], 4)\n",
    "\n",
    "처음에 4L의 물통이 채워져 있기 때문에, 장그래는 약수터에 들르지 않고 최대 4km 지점까지 올라갈 수 있습니다. 탈수 없이 계속 올라가기 위해서는 1km 지점이나 4km 지점에서 물통을 채워야겠죠?\n",
    "\n",
    "최대한 적은 약수터를 들르면서 올라가야 하고, 마지막에 산 정상인 26km 지점의 약수터를 들르면 성공적인 등산입니다.\n",
    "\n"
   ]
  },
  {
   "cell_type": "code",
   "execution_count": 5,
   "metadata": {},
   "outputs": [
    {
     "name": "stdout",
     "output_type": "stream",
     "text": [
      "[4, 7, 11, 13, 16, 20, 24, 26]\n",
      "[5, 8, 12, 17, 23, 28, 32, 38, 44, 47]\n"
     ]
    }
   ],
   "source": [
    "def select_stops(water_stops, capacity):\n",
    "\n",
    "    compare_num = capacity # 물통에 있는 물의 양과 비교하기 위해 정한 함수\n",
    "    stop_list = [] \n",
    "    \n",
    "    # 리스트 개수만큼 반복\n",
    "    for i in range(0, len(water_stops)): # water_stops list의 0번쨰부터 list 개수만큼 반복\n",
    "        if water_stops[i] > compare_num:\n",
    "            stop_list.append(water_stops[i-1]) # append -> 맨 끝에 추가,,, insert -> list 중간에 추가하는 함수\n",
    "\n",
    "            compare_num = water_stops[i-1] + capacity \n",
    "        elif water_stops[i] == compare_num:\n",
    "            stop_list.append(water_stops[i])\n",
    "\n",
    "            compare_num = water_stops[i] + capacity \n",
    "        \n",
    "        if i == len(water_stops) -2:\n",
    "            stop_list.append(water_stops[len(water_stops)-1])\n",
    "\n",
    "    return stop_list\n",
    "\n",
    "list1 = [1, 4, 5, 7, 11, 12, 13, 16, 18, 20, 22, 24, 26] # water_stops\n",
    "print(select_stops(list1, 4))\n",
    "\n",
    "list2 = [5, 8, 12, 17, 20, 22, 23, 24, 28, 32, 38, 42, 44, 47] # water_stops\n",
    "print(select_stops(list2, 6))"
   ]
  },
  {
   "cell_type": "code",
   "execution_count": 30,
   "metadata": {},
   "outputs": [
    {
     "name": "stdout",
     "output_type": "stream",
     "text": [
      "[4, 7, 11, 13, 16, 20, 24, 26]\n",
      "[5, 8, 12, 17, 23, 28, 32, 38, 44, 47]\n"
     ]
    }
   ],
   "source": [
    "def select_stops(water_stops, capacity):\n",
    "\n",
    "    # 약수터 위치 리스트\n",
    "    stop_list = []\n",
    "\n",
    "    # 마지막 들른 약수터 위치\n",
    "    prev_stop = 0\n",
    "\n",
    "    for i in range(len(water_stops)): \n",
    "        # i 지점까지 갈 수 없으면, i - 1 지점 약수터를 들른다\n",
    "        if water_stops[i] - prev_stop > capacity:\n",
    "            stop_list.append(water_stops[i - 1])\n",
    "            prev_stop = water_stops[i - 1]\n",
    "\n",
    "    # 마지막 약수터는 무조건 간다 \n",
    "    stop_list.append(water_stops[-1])\n",
    "\n",
    "    return stop_list\n",
    "\n",
    "\n",
    "# 잇풋 water_stops 의 길이를 n이라고 할 때,\n",
    "# 함수 select_stops는 n에 비례하는 반복문이 하나있기 때문에 시간복잡도O(n)\n",
    "\n",
    "list1 = [1, 4, 5, 7, 11, 12, 13, 16, 18, 20, 22, 24, 26] # water_stops\n",
    "print(select_stops(list1, 4))\n",
    "\n",
    "list2 = [5, 8, 12, 17, 20, 22, 23, 24, 28, 32, 38, 42, 44, 47] # water_stops\n",
    "print(select_stops(list2, 6))"
   ]
  },
  {
   "attachments": {},
   "cell_type": "markdown",
   "metadata": {},
   "source": [
    "# **QUIZ 4. 중복되는 항목 찾기 1**\n",
    "\n",
    "(N + 1)의 크기인 리스트에, 1부터 N까지의 임의의 자연수가 요소로 할당되어 있습니다. 그렇다면 어떤 수는 꼭 한 번은 반복되겠지요.\n",
    "\n",
    "예를 들어 [1, 3, 4, 2, 5, 4]와 같은 리스트 있을 수도 있고, [1, 1, 1, 6, 2, 2, 3]과 같은 리스트가 있을 수도 있습니다. (몇 개의 수가 여러 번 중복되어 있을 수도 있습니다.)\n",
    "\n",
    "이런 리스트에서 반복되는 요소를 찾아내려고 합니다.\n",
    "\n",
    "중복되는 어떠한 수 ‘하나’만 찾아내도 됩니다. 즉 [1, 1, 1, 6, 2, 2, 3] 예시에서 1, 2를 모두 리턴하지 않고, 1 또는 2 하나만 리턴하게 하면 됩니다.\n",
    "\n",
    "중복되는 수를 찾는 시간 효율적인 함수를 설계해 보세요."
   ]
  },
  {
   "cell_type": "code",
   "execution_count": 33,
   "metadata": {},
   "outputs": [
    {
     "name": "stdout",
     "output_type": "stream",
     "text": [
      "3\n",
      "5\n",
      "3\n"
     ]
    }
   ],
   "source": [
    "def find_same_number(some_list):\n",
    "    \n",
    "    #시간복잡도 O(n)\n",
    "    check_list = [0] * (len(some_list)) # check_list 초기화\n",
    "    #시간복잡도 O(n)\n",
    "    for i in range(len(some_list)):\n",
    "        check_list[some_list[i]] += 1\n",
    "        if check_list[some_list[i]] >= 2:\n",
    "            return some_list[i]\n",
    "\n",
    "\n",
    "print(find_same_number([1, 4, 3, 5, 3, 2]))\n",
    "print(find_same_number([4, 1, 5, 2, 3, 5]))\n",
    "print(find_same_number([5, 2, 3, 4, 1, 6, 7, 8, 9, 3]))"
   ]
  },
  {
   "cell_type": "code",
   "execution_count": 36,
   "metadata": {},
   "outputs": [
    {
     "name": "stdout",
     "output_type": "stream",
     "text": [
      "3\n",
      "5\n",
      "3\n"
     ]
    }
   ],
   "source": [
    "# 모범 답안\n",
    "\n",
    "def find_same_number(some_list): \n",
    "\n",
    "# 이미 나온 요소를 저장시켜줄 사전\n",
    "    elements_seen_so_far = {}\n",
    "\n",
    "    for element in some_list:\n",
    "        # 이미 나온 요소인지 확인하고 맞으면 요소를 리턴한다\n",
    "        if element in elements_seen_so_far:\n",
    "            return element\n",
    "\n",
    "        # 해당 요소를 사전에 저장시킨다\n",
    "        elements_seen_so_far[element] = True\n",
    "\n",
    "print(find_same_number([1, 4, 3, 5, 3, 2]))\n",
    "print(find_same_number([4, 1, 5, 2, 3, 5]))\n",
    "print(find_same_number([5, 2, 3, 4, 1, 6, 7, 8, 9, 3]))\n",
    "\n",
    "# 공간 복잡도\n",
    "# 인풋 리스트의 길이가 n이라고 할 때 사전의 크기는 인풋에 비례하는 크기를 가지므로\n",
    "\n",
    "# 이 알고리즘의 공간 복잡도는 O(n)이 됩니다."
   ]
  }
 ],
 "metadata": {
  "kernelspec": {
   "display_name": "base",
   "language": "python",
   "name": "python3"
  },
  "language_info": {
   "codemirror_mode": {
    "name": "ipython",
    "version": 3
   },
   "file_extension": ".py",
   "mimetype": "text/x-python",
   "name": "python",
   "nbconvert_exporter": "python",
   "pygments_lexer": "ipython3",
   "version": "3.9.13"
  },
  "orig_nbformat": 4
 },
 "nbformat": 4,
 "nbformat_minor": 2
}
