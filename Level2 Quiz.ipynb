{
 "cells": [
  {
   "attachments": {},
   "cell_type": "markdown",
   "metadata": {},
   "source": [
    "# **Quiz 1. 투자 귀재 규식이2**\n",
    "\n",
    "저번 챕터에서 sublist_max() 함수를 Brute Force 방식으로 작성했습니다. 이번에는 같은 문제를 Divide and Conquer 방식으로 풀어볼 텐데요. \n",
    "\n",
    "$$\n",
    "Divide: 주어진 문제를 동일한 형태의 부분 문제로 나눈다.\n",
    "$$\n",
    "$$\n",
    "Conquer: 각 부분 문제를 해결한다.\n",
    "$$\n",
    "$$\n",
    "Combine: 부분 문제의 답을 활용해서, 주어진 문제의 답을 얻는다.\n",
    "$$\n",
    "\n",
    "시간 복잡도는 O(nlgn)이 되어야 합니다.\n",
    "\n",
    "이번 sublist_max() 함수는 3개의 파라미터를 받습니다.\n",
    "\n",
    "profits: 며칠 동안의 수익이 담겨 있는 리스트\n",
    "start: 살펴볼 구간의 시작 인덱스\n",
    "end: 살펴볼 구간의 끝 인덱스\n",
    "sublist_max()는 profits의 start부터 end까지 구간에서 가능한 가장 큰 수익을 리턴합니다.\n",
    "\n",
    "합병 정렬을 구현할 때 merge_sort() 함수를 깔끔하게 작성하기 위해 추가로 merge() 함수를 작성했던 것 기억 나시나요? 마찬가지로 퀵 정렬을 구현할 때 quicksort() 함수에 추가로 partition() 함수를 작성했습니다. 이번에도 sublist_max() 함수에 추가로 새로운 함수를 작성하면 도움이 되실 겁니다."
   ]
  },
  {
   "cell_type": "code",
   "execution_count": 9,
   "metadata": {},
   "outputs": [
    {
     "name": "stdout",
     "output_type": "stream",
     "text": [
      "7\n",
      "28\n",
      "22\n",
      "16\n"
     ]
    }
   ],
   "source": [
    "\n",
    "# Divide and Conquer -> 문제를 더 작은 부분문제로 나누고 재귀적 풀이\n",
    "# base case, recursive case 필요\n",
    "\n",
    "\n",
    "# Divide: 구간을 왼쪽 반과 오른쪽 반으로 나눈다.\n",
    "# Conquer: 왼쪽 반에서 가능한 최대 수익과 오른쪽 반에서 가능한 최대 수익을 각각 계산한다.\n",
    "# Combine: 왼쪽 반에서 가능한 최대 수익, 오른쪽 반에서 가능한 최대 수익, 중앙을 관통하면서 가능한 최대 수익을 비교해서 그 중 가장 큰 값을 고른다.\n",
    "\n",
    "\n",
    "def max_crossing_sum(profit, start, end):\n",
    "    mid = (start + end) //2 # 중간 인덱스\n",
    "\n",
    "    '''\n",
    "    왼쪽에서의 가장 큰 수익 계산\n",
    "    인덱스 mid부터 인덱스 0까지 범위를 넓혀가며 최대 수익을 찾는다\n",
    "    '''\n",
    "    left_sum = 0             # 왼쪽 누적 수익\n",
    "    left_max = profit[mid]   # 왼쪽 최고 수익; 왼쪽 반 중 가장 오른쪽 값으로 초기화\n",
    "\n",
    "    for i in range(mid, start -1, -1):\n",
    "        left_sum += profit[i]\n",
    "        left_max = max(left_max, left_sum)\n",
    "\n",
    "    '''\n",
    "    오른쪽에서의 가장 큰 수익 계산\n",
    "    인덱스 mid+1부터 인덱스 end까지 범위를 넓혀가며 최대 수익을 찾는다\n",
    "    '''\n",
    "\n",
    "    right_sum = 0                # 오른쪽 누적 수익\n",
    "    right_max = profit[mid + 1]  # 오른쪽 최고 수익; 오른쪽 반 중 가장 왼쪽 값으로 초기화\n",
    "\n",
    "    for i in range(mid + 1, end + 1):\n",
    "        right_sum += profit[i]\n",
    "        right_max = max(right_max, right_sum)\n",
    "    \n",
    "    return left_max + right_max\n",
    "\n",
    "def sublist_max(profit, start, end):\n",
    "    \n",
    "    if start == end: # 범위에 하나의 항목밖에 없으면(start와 end가 같으면 범위에 항목이 하나), 그 항목을 리턴한다.\n",
    "        return profit[start]\n",
    "\n",
    "    mid = (start + end) // 2 # 중간 인덱스\n",
    "    \n",
    "\n",
    "    # 상황별로 최대 수익을 구한다\n",
    "    max_left = sublist_max(profit, start, mid)\n",
    "    max_right = sublist_max(profit, mid + 1, end)\n",
    "    max_cross = max_crossing_sum(profit, start, end)\n",
    "\n",
    "    # 위 세 경우 중 가장 큰 결괏값을 리턴\n",
    "    return max(max_left, max_right, max_cross)\n",
    "\n",
    "\n",
    "list1 = [-2, -3, 4, -1, -2, 1, 5, -3]\n",
    "print(sublist_max(list1, 0, len(list1) - 1))\n",
    "\n",
    "list2 = [4, 7, -6, 9, 2, 6, -5, 7, 3, 1, -1, -7, 2]\n",
    "print(sublist_max(list2, 0, len(list2) - 1))\n",
    "\n",
    "list3 = [9, -8, 0, -7, 8, -6, -3, -8, 9, 2, 8, 3, -5, 1, -7, -1, 10, -1, -9, -5]\n",
    "print(sublist_max(list3, 0, len(list3) - 1))\n",
    "\n",
    "list4 = [-9, -8, -8, 6, -4, 6, -2, -3, -10, -8, -9, -9, 6, 2, 8, -1, -1]\n",
    "print(sublist_max(list4, 0, len(list4) - 1))"
   ]
  },
  {
   "attachments": {},
   "cell_type": "markdown",
   "metadata": {},
   "source": [
    "# **Quiz 2. 투자 귀재 규식이 3**\n",
    "\n",
    "이미 sublist_max() 함수를 각각 Brute Force과 Divide and Conquer 방식으로 작성했는데요. Brute Force로 풀었을 때는 시간 복잡도가 O(n2), \n",
    "\n",
    "Divide and Conquer를 사용했을 때는 O(nlgn)였습니다.\n",
    "\n",
    "이번 과제에서는 시간 복잡도를 O(n)로 한 번 더 단축해보세요!\n",
    "\n",
    "\n",
    "###### *************************특정 기간 중 수익이 가장 큰 구간을 찾아내는 함수 sublist_max()를 작성해 보려고 합니다.**************************\n",
    "\n",
    "\n"
   ]
  },
  {
   "cell_type": "code",
   "execution_count": 10,
   "metadata": {},
   "outputs": [
    {
     "name": "stdout",
     "output_type": "stream",
     "text": [
      "8\n",
      "7\n"
     ]
    }
   ],
   "source": [
    "def sublist_max(profits):\n",
    "    count = []\n",
    "    max_profit = 0\n",
    "    profit_sum = 0\n",
    "\n",
    "    for i in range(len(profits)):\n",
    "        if profits[i] > 0:\n",
    "            count.append(i)\n",
    "\n",
    "    for j in range(count[0], len(profits)): # 여기서 반복문이 하나 더 있긴하지만 최대 N을 넘기지 않으므로, O(N) 이라고 할 수 있음.\n",
    "        profit_sum += profits[j]\n",
    "        max_profit = max(max_profit, profit_sum)\n",
    "\n",
    "    return max_profit\n",
    "\n",
    "# 테스트 코드\n",
    "print(sublist_max([7, -3, 4, -8]))\n",
    "print(sublist_max([-2, -3, 4, -1, -2, 1, 5, -3, -1]))"
   ]
  },
  {
   "cell_type": "code",
   "execution_count": 8,
   "metadata": {},
   "outputs": [
    {
     "name": "stdout",
     "output_type": "stream",
     "text": [
      "8\n",
      "7\n"
     ]
    }
   ],
   "source": [
    "# 모범 답안\n",
    "\n",
    "def sublist_max(profits):\n",
    "    max_profit_so_far = profits[0] # 반복문에서 현재까지의 부분 문제의 답\n",
    "    max_check = profits[0] # 가장 끝 요소를 포함하는 구간의 최대 합\n",
    "    \n",
    "    # 반복문을 통하여 각 요소까지의 최대 수익을 저장한다\n",
    "    for i in range(1, len(profits)):\n",
    "        # 새로운 요소를 포함하는 구간의 최대합을 비교를 통해 정한다\n",
    "        max_check = max(max_check + profits[i], profits[i])\n",
    "        \n",
    "        # 최대 구간 합을 비교를 통해 정한다\n",
    "        max_profit_so_far = max(max_profit_so_far, max_check)\n",
    "    \n",
    "    return max_profit_so_far\n",
    "\n",
    "# 테스트 코드\n",
    "print(sublist_max([7, -3, 4, -8]))\n",
    "print(sublist_max([-2, -3, 4, -1, -2, 1, 5, -3, -1]))\n"
   ]
  },
  {
   "cell_type": "markdown",
   "metadata": {},
   "source": []
  }
 ],
 "metadata": {
  "kernelspec": {
   "display_name": "base",
   "language": "python",
   "name": "python3"
  },
  "language_info": {
   "codemirror_mode": {
    "name": "ipython",
    "version": 3
   },
   "file_extension": ".py",
   "mimetype": "text/x-python",
   "name": "python",
   "nbconvert_exporter": "python",
   "pygments_lexer": "ipython3",
   "version": "3.9.13"
  },
  "orig_nbformat": 4
 },
 "nbformat": 4,
 "nbformat_minor": 2
}
