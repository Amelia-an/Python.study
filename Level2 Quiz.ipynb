{
 "cells": [
  {
   "attachments": {},
   "cell_type": "markdown",
   "metadata": {},
   "source": [
    "# **Quiz 1. 투자 귀재 규식이2**\n",
    "\n",
    "저번 챕터에서 sublist_max() 함수를 Brute Force 방식으로 작성했습니다. 이번에는 같은 문제를 Divide and Conquer 방식으로 풀어볼 텐데요. \n",
    "\n",
    "$$\n",
    "Divide: 주어진 문제를 동일한 형태의 부분 문제로 나눈다.\n",
    "$$\n",
    "$$\n",
    "Conquer: 각 부분 문제를 해결한다.\n",
    "$$\n",
    "$$\n",
    "Combine: 부분 문제의 답을 활용해서, 주어진 문제의 답을 얻는다.\n",
    "$$\n",
    "\n",
    "시간 복잡도는 O(nlgn)이 되어야 합니다.\n",
    "\n",
    "이번 sublist_max() 함수는 3개의 파라미터를 받습니다.\n",
    "\n",
    "profits: 며칠 동안의 수익이 담겨 있는 리스트\n",
    "start: 살펴볼 구간의 시작 인덱스\n",
    "end: 살펴볼 구간의 끝 인덱스\n",
    "sublist_max()는 profits의 start부터 end까지 구간에서 가능한 가장 큰 수익을 리턴합니다.\n",
    "\n",
    "합병 정렬을 구현할 때 merge_sort() 함수를 깔끔하게 작성하기 위해 추가로 merge() 함수를 작성했던 것 기억 나시나요? 마찬가지로 퀵 정렬을 구현할 때 quicksort() 함수에 추가로 partition() 함수를 작성했습니다. 이번에도 sublist_max() 함수에 추가로 새로운 함수를 작성하면 도움이 되실 겁니다."
   ]
  },
  {
   "cell_type": "code",
   "execution_count": 9,
   "metadata": {},
   "outputs": [
    {
     "name": "stdout",
     "output_type": "stream",
     "text": [
      "7\n",
      "28\n",
      "22\n",
      "16\n"
     ]
    }
   ],
   "source": [
    "\n",
    "# Divide and Conquer -> 문제를 더 작은 부분문제로 나누고 재귀적 풀이\n",
    "# base case, recursive case 필요\n",
    "\n",
    "\n",
    "# Divide: 구간을 왼쪽 반과 오른쪽 반으로 나눈다.\n",
    "# Conquer: 왼쪽 반에서 가능한 최대 수익과 오른쪽 반에서 가능한 최대 수익을 각각 계산한다.\n",
    "# Combine: 왼쪽 반에서 가능한 최대 수익, 오른쪽 반에서 가능한 최대 수익, 중앙을 관통하면서 가능한 최대 수익을 비교해서 그 중 가장 큰 값을 고른다.\n",
    "\n",
    "\n",
    "def max_crossing_sum(profit, start, end):\n",
    "    mid = (start + end) //2 # 중간 인덱스\n",
    "\n",
    "    '''\n",
    "    왼쪽에서의 가장 큰 수익 계산\n",
    "    인덱스 mid부터 인덱스 0까지 범위를 넓혀가며 최대 수익을 찾는다\n",
    "    '''\n",
    "    left_sum = 0             # 왼쪽 누적 수익\n",
    "    left_max = profit[mid]   # 왼쪽 최고 수익; 왼쪽 반 중 가장 오른쪽 값으로 초기화\n",
    "\n",
    "    for i in range(mid, start -1, -1):\n",
    "        left_sum += profit[i]\n",
    "        left_max = max(left_max, left_sum)\n",
    "\n",
    "    '''\n",
    "    오른쪽에서의 가장 큰 수익 계산\n",
    "    인덱스 mid+1부터 인덱스 end까지 범위를 넓혀가며 최대 수익을 찾는다\n",
    "    '''\n",
    "\n",
    "    right_sum = 0                # 오른쪽 누적 수익\n",
    "    right_max = profit[mid + 1]  # 오른쪽 최고 수익; 오른쪽 반 중 가장 왼쪽 값으로 초기화\n",
    "\n",
    "    for i in range(mid + 1, end + 1):\n",
    "        right_sum += profit[i]\n",
    "        right_max = max(right_max, right_sum)\n",
    "    \n",
    "    return left_max + right_max\n",
    "\n",
    "def sublist_max(profit, start, end):\n",
    "    \n",
    "    if start == end: # 범위에 하나의 항목밖에 없으면(start와 end가 같으면 범위에 항목이 하나), 그 항목을 리턴한다.\n",
    "        return profit[start]\n",
    "\n",
    "    mid = (start + end) // 2 # 중간 인덱스\n",
    "    \n",
    "\n",
    "    # 상황별로 최대 수익을 구한다\n",
    "    max_left = sublist_max(profit, start, mid)\n",
    "    max_right = sublist_max(profit, mid + 1, end)\n",
    "    max_cross = max_crossing_sum(profit, start, end)\n",
    "\n",
    "    # 위 세 경우 중 가장 큰 결괏값을 리턴\n",
    "    return max(max_left, max_right, max_cross)\n",
    "\n",
    "\n",
    "list1 = [-2, -3, 4, -1, -2, 1, 5, -3]\n",
    "print(sublist_max(list1, 0, len(list1) - 1))\n",
    "\n",
    "list2 = [4, 7, -6, 9, 2, 6, -5, 7, 3, 1, -1, -7, 2]\n",
    "print(sublist_max(list2, 0, len(list2) - 1))\n",
    "\n",
    "list3 = [9, -8, 0, -7, 8, -6, -3, -8, 9, 2, 8, 3, -5, 1, -7, -1, 10, -1, -9, -5]\n",
    "print(sublist_max(list3, 0, len(list3) - 1))\n",
    "\n",
    "list4 = [-9, -8, -8, 6, -4, 6, -2, -3, -10, -8, -9, -9, 6, 2, 8, -1, -1]\n",
    "print(sublist_max(list4, 0, len(list4) - 1))"
   ]
  },
  {
   "attachments": {},
   "cell_type": "markdown",
   "metadata": {},
   "source": [
    "# **Quiz 2. 투자 귀재 규식이 3**\n",
    "\n",
    "이미 sublist_max() 함수를 각각 Brute Force과 Divide and Conquer 방식으로 작성했는데요. Brute Force로 풀었을 때는 시간 복잡도가 O(n2), \n",
    "\n",
    "Divide and Conquer를 사용했을 때는 O(nlgn)였습니다.\n",
    "\n",
    "이번 과제에서는 시간 복잡도를 O(n)로 한 번 더 단축해보세요!\n",
    "\n",
    "\n",
    "###### *************************특정 기간 중 수익이 가장 큰 구간을 찾아내는 함수 sublist_max()를 작성해 보려고 합니다.**************************\n",
    "\n",
    "\n"
   ]
  },
  {
   "cell_type": "code",
   "execution_count": 10,
   "metadata": {},
   "outputs": [
    {
     "name": "stdout",
     "output_type": "stream",
     "text": [
      "8\n",
      "7\n"
     ]
    }
   ],
   "source": [
    "def sublist_max(profits):\n",
    "    count = []\n",
    "    max_profit = 0\n",
    "    profit_sum = 0\n",
    "\n",
    "    for i in range(len(profits)):\n",
    "        if profits[i] > 0:\n",
    "            count.append(i)\n",
    "\n",
    "    for j in range(count[0], len(profits)): # 여기서 반복문이 하나 더 있긴하지만 최대 N을 넘기지 않으므로, O(N) 이라고 할 수 있음.\n",
    "        profit_sum += profits[j]\n",
    "        max_profit = max(max_profit, profit_sum)\n",
    "\n",
    "    return max_profit\n",
    "\n",
    "# 테스트 코드\n",
    "print(sublist_max([7, -3, 4, -8]))\n",
    "print(sublist_max([-2, -3, 4, -1, -2, 1, 5, -3, -1]))"
   ]
  },
  {
   "cell_type": "code",
   "execution_count": 8,
   "metadata": {},
   "outputs": [
    {
     "name": "stdout",
     "output_type": "stream",
     "text": [
      "8\n",
      "7\n"
     ]
    }
   ],
   "source": [
    "# 모범 답안\n",
    "\n",
    "def sublist_max(profits):\n",
    "    max_profit_so_far = profits[0] # 반복문에서 현재까지의 부분 문제의 답\n",
    "    max_check = profits[0] # 가장 끝 요소를 포함하는 구간의 최대 합\n",
    "    \n",
    "    # 반복문을 통하여 각 요소까지의 최대 수익을 저장한다\n",
    "    for i in range(1, len(profits)):\n",
    "        # 새로운 요소를 포함하는 구간의 최대합을 비교를 통해 정한다\n",
    "        max_check = max(max_check + profits[i], profits[i])\n",
    "        \n",
    "        # 최대 구간 합을 비교를 통해 정한다\n",
    "        max_profit_so_far = max(max_profit_so_far, max_check)\n",
    "    \n",
    "    return max_profit_so_far\n",
    "\n",
    "# 테스트 코드\n",
    "print(sublist_max([7, -3, 4, -8]))\n",
    "print(sublist_max([-2, -3, 4, -1, -2, 1, 5, -3, -1]))\n"
   ]
  },
  {
   "attachments": {},
   "cell_type": "markdown",
   "metadata": {},
   "source": [
    "# **Quiz 3. 삼송전자 주식 분석**\n",
    "\n",
    "태호는 주식 분석이 취미입니다.\n",
    "\n",
    "요즘 제일 핫한 종목은 삼송전자인데요. 삼송전자의 주식을 딱 한 번 사고 팔았다면 최대 얼마의 수익이 가능했을지 궁금합니다. 그것을 계산해 주는 O(n) 함수 max_profit()을 작성하세요.\n",
    "\n",
    "max_profit()은 파라미터로 일별 주식 가격이 들어 있는 리스트 stock_prices를 받고 최대 수익을 리턴합니다. 주식은 딱 한 번만 사고 한 번만 팝니다. 그리고 사는 당일에 팔 수는 없습니다.\n",
    "\n",
    "하나의 예시로, 지난 6일간 삼송전자의 주식 가격이 이렇다고 가정합시다.\n",
    "\n",
    "max_profit([7, 1, 5, 3, 6, 4])\n",
    "\n",
    "이 기간 동안 낼 수 있는 최대 수익은 얼마일까요? 둘째 날 1에 사서 \n",
    "\n",
    "다섯째 날 6에 팔면 \n",
    "\n",
    "총 5의 수익이 생깁니다.\n",
    "\n",
    "또 다른 예시를 봅시다.\n",
    "\n",
    "max_profit([7, 6, 4, 3, 1])\n",
    "\n",
    "이 기간 동안 가능한 최대 수익은 얼마일까요? 이번에는 주식이 계속 떨어지기만 하네요. 하지만 꼭 한 번은 사고 팔아야 하기 때문에, \n",
    "\n",
    "첫 날 7에 사고 \n",
    "\n",
    "둘째 날 6에 팔아서 나오는 \n",
    "\n",
    "−1이 최대 수익입니다."
   ]
  },
  {
   "cell_type": "code",
   "execution_count": 1,
   "metadata": {},
   "outputs": [
    {
     "name": "stdout",
     "output_type": "stream",
     "text": [
      "5\n",
      "-1\n",
      "11\n",
      "18\n"
     ]
    }
   ],
   "source": [
    "#brute force방식--> 한 번 사고 한 번 파는 모든 조합을 보고, 그 중에서 가장 큰 수익을 고르기\n",
    "\n",
    "def max_profit(stock_list):\n",
    "    # 현재까지의 최대 수익\n",
    "    max_profit_so_far =stock_list[1] - stock_list[0]\n",
    "\n",
    "    # 한 번 사고 파는 모든 조합을 본다.\n",
    "    for i in range(len(stock_list)-1):\n",
    "        for j in range(i + 1, len(stock_list)):\n",
    "            # i에서 사고 j에 파는 것이 현재까지의 최대 수익이라면 max_so_far을 바꾼다.\n",
    "            max_profit_so_far = max(max_profit_so_far, stock_list[j]-stock_list[i])\n",
    "\n",
    "    return max_profit_so_far\n",
    "\n",
    "print(max_profit([7, 1, 5, 3, 6, 4]))\n",
    "print(max_profit([7, 6, 4, 3, 1]))\n",
    "print(max_profit([11, 13, 9, 13, 20, 14, 19, 12, 19, 13]))\n",
    "print(max_profit([12, 4, 11, 18, 17, 19, 1, 19, 14, 13, 7, 15, 10, 1, 3, 6]))\n",
    "\n",
    "\n",
    "#비효율적 답안\n",
    "#stock_list의 길이를 n이라고 하면, 시간복잡도는 O(n2)\n",
    "#더 효율적으로 o(N)으로 고치기\n",
    "\n"
   ]
  },
  {
   "cell_type": "code",
   "execution_count": 2,
   "metadata": {},
   "outputs": [
    {
     "name": "stdout",
     "output_type": "stream",
     "text": [
      "5\n",
      "-1\n",
      "11\n",
      "18\n"
     ]
    }
   ],
   "source": [
    "# O(N)-> 가장 낮은 가격에 사서 높은 가격에 팔기\n",
    "# 파는 날을 기준으로, 지난 날들 중에서의 최솟값을 알아야함\n",
    "\n",
    "def max_profit(stock_list):\n",
    "    #현재까지의 최대 수익\n",
    "    max_profit_so_far = stock_list[1]-stock_list[0]\n",
    "\n",
    "    #현재까지의 최소 주식 가격\n",
    "    min_so_far = min(stock_list[0], stock_list[1])\n",
    "\n",
    "    #주식 가격을 하나씩 확인\n",
    "    for i in range(2, len(stock_list)):\n",
    "        #현재 파는 것이 좋은지 확인\n",
    "        max_profit_so_far = max(max_profit_so_far, stock_list[i]-min_so_far)\n",
    "\n",
    "        #현재 주식 가격이 최솟값인지 확인\n",
    "        min_so_far = min(min_so_far, stock_list[i])\n",
    "\n",
    "    return max_profit_so_far\n",
    "\n",
    "\n",
    "print(max_profit([7, 1, 5, 3, 6, 4]))\n",
    "print(max_profit([7, 6, 4, 3, 1]))\n",
    "print(max_profit([11, 13, 9, 13, 20, 14, 19, 12, 19, 13]))\n",
    "print(max_profit([12, 4, 11, 18, 17, 19, 1, 19, 14, 13, 7, 15, 10, 1, 3, 6]))"
   ]
  },
  {
   "attachments": {},
   "cell_type": "markdown",
   "metadata": {},
   "source": [
    "# **Quiz 4. 출근하는 방법1**\n",
    "\n",
    "\n",
    "영훈이는 출근할 때 계단을 통해 사무실로 가는데요. 급할 때는 두 계단씩 올라가고 여유 있을 때는 한 계단씩 올라 갑니다.\n",
    "\n",
    "어느 날 문득, 호기심이 생겼습니다. 한 계단 또는 두 계단씩 올라가서 끝까지 올라가는 방법은 총 몇 가지가 있을까요?\n",
    "\n",
    "계단 4개를 올라간다고 가정하면, 이런 방법들이 있습니다.\n",
    "\n",
    "1, 1, 1, 1\n",
    "\n",
    "2, 1, 1\n",
    "\n",
    "1, 2, 1\n",
    "\n",
    "1, 1, 2\n",
    "\n",
    "2, 2\n",
    "\n",
    "총 5개 방법이 있네요.\n",
    "\n",
    "함수 staircase()는 파라미터로 계단 수 n을 받고, 올라갈 수 있는 방법의 수를 효율적으로 찾아서 리턴합니다."
   ]
  },
  {
   "cell_type": "code",
   "execution_count": 3,
   "metadata": {},
   "outputs": [
    {
     "name": "stdout",
     "output_type": "stream",
     "text": [
      "1\n",
      "13\n",
      "987\n",
      "121393\n",
      "267914296\n"
     ]
    }
   ],
   "source": [
    "fib_cache={}\n",
    "\n",
    "def staircase(n): # 계단 수 (n)을 받고, 올라갈 수 있는 방법의 수를 찾아 리턴\n",
    "\n",
    "    if n<2:\n",
    "        return 1\n",
    "    if n in fib_cache:\n",
    "        return fib_cache[n]\n",
    "    else:\n",
    "        temp=staircase(n-1) + staircase(n-2)\n",
    "        fib_cache[n] = temp\n",
    "        return temp  \n",
    "\n",
    "\n",
    "\n",
    "\n",
    "print(staircase(0))\n",
    "print(staircase(6))\n",
    "print(staircase(15))\n",
    "print(staircase(25))\n",
    "print(staircase(41))"
   ]
  },
  {
   "cell_type": "code",
   "execution_count": 4,
   "metadata": {},
   "outputs": [
    {
     "name": "stdout",
     "output_type": "stream",
     "text": [
      "1\n",
      "13\n",
      "987\n",
      "121393\n",
      "267914296\n"
     ]
    }
   ],
   "source": [
    "# 모범 답안\n",
    "# n번 계단으로 가기 위해서는 n-1 또는 n-2 번 계단으로 올라가야 함 \n",
    "# 이걸 staircase(n-1) + staircase(n-2)\n",
    "# n번 째 수 계산하는 함수 피보나치 수열 문제와 비슷 --> staircase(n) = fib(n + 1)\n",
    "\n",
    "# n\t0\t1\t2\t3\t4\t5\t6\t7\t8\n",
    "# fib(n)\t\t1\t1\t2\t3\t5\t8\t13\t21\n",
    "# staircase(n)\t1\t1\t2\t3\t5\t8\t13\t21\t34\n",
    "\n",
    "\n",
    "def staircase(n):\n",
    "    a, b = 1, 1\n",
    "    for i in range(n):\n",
    "        a, b = b, a+b\n",
    "    return a\n",
    "\n",
    "print(staircase(0))\n",
    "print(staircase(6))\n",
    "print(staircase(15))\n",
    "print(staircase(25))\n",
    "print(staircase(41))"
   ]
  },
  {
   "attachments": {},
   "cell_type": "markdown",
   "metadata": {},
   "source": [
    "# **Quiz 5. 출근하는 방법 2**\n",
    "\n",
    "이제 다르게 계단을 올라갈 수는 없을까 고민하던 영훈이는 특이한 방법으로 계단을 오르려고 합니다.\n",
    "\n",
    "가령 계단을 한 번에 1, 2, 4 칸씩 올라가 보는 건데요. 예를 들어서 계단을 4개를 올라가야 되면:\n",
    "\n",
    "1, 1, 1, 1\n",
    "\n",
    "2, 1, 1\n",
    "\n",
    "1, 2, 1\n",
    "\n",
    "1, 1, 2\n",
    "\n",
    "2, 2\n",
    "\n",
    "4\n",
    "\n",
    "함수 staircase()는 파라미터로 총 계단 수 n 그리고 한 번에 올라갈 수 있는 계단 수를 possible_steps로 받고, 올라갈 수 있는 방법의 수를 효율적으로 찾아서 리턴합니다.\n",
    "\n",
    "그러니까 n이 3, possible_steps 가 [1, 2, 3]이면, 계단 총 3칸을 1, 2, 3칸씩 갈 수 있을 때 오르는 방법의 수를 구하는 거죠. 단, possible_steps에는 항상 1이 포함된다고 가정합니다."
   ]
  },
  {
   "cell_type": "code",
   "execution_count": 8,
   "metadata": {},
   "outputs": [
    {
     "name": "stdout",
     "output_type": "stream",
     "text": [
      "13\n",
      "24\n",
      "31\n",
      "19\n"
     ]
    }
   ],
   "source": [
    "def staircase(stairs, possible_steps): \n",
    "  case = []\n",
    "  \n",
    "  for i in range(possible_steps[-1]-1,possible_steps[-1] + stairs):\n",
    "    if i == possible_steps[-1]-1:\n",
    "      case = [0] * i + [1] + [0] * (stairs )\n",
    "\n",
    "    else: \n",
    "      case[i] = case[i - possible_steps[0]] + case[i - possible_steps[1]] + case[i - possible_steps[2]]\n",
    "\n",
    "  return case[-1]\n",
    "\n",
    "\n",
    "print(staircase(5, [1, 2, 3]))\n",
    "print(staircase(6, [1, 2, 3]))\n",
    "print(staircase(7, [1, 2, 4]))\n",
    "print(staircase(8, [1, 3, 5]))"
   ]
  },
  {
   "cell_type": "code",
   "execution_count": 9,
   "metadata": {},
   "outputs": [
    {
     "name": "stdout",
     "output_type": "stream",
     "text": [
      "13\n",
      "24\n",
      "31\n",
      "19\n"
     ]
    }
   ],
   "source": [
    "# 모범답안\n",
    "\n",
    "# staircase(n-1)+staircase(n-2)+staircase(n-3)\n",
    "# 리스트를 업데이트해 주면서 Tabulation 방식으로 풀기\n",
    "\n",
    "# 높이 n개의 계단을 올라가는 방법을 리턴한다\n",
    "def staircase(stairs, possible_steps):\n",
    "    # 계단 높이가 0 이거나 1 이면 올라가는 방법은 한 가지밖에 없다\n",
    "    number_of_ways = [1, 1]\n",
    "    \n",
    "    # 이 변수들을 업데이트해 주며 n 번째 계단을 오르는 방법의 수를 구한다.\n",
    "    for height in range(2, stairs + 1):\n",
    "        number_of_ways.append(0)\n",
    "\n",
    "        for step in possible_steps:\n",
    "            # 음수 계단 수는 존재하지 않기 때문에 무시합니다\n",
    "            if height - step >= 0:\n",
    "                number_of_ways[height] += number_of_ways[height - step]\n",
    "\n",
    "    return number_of_ways[stairs]\n",
    "\n",
    "print(staircase(5, [1, 2, 3]))\n",
    "print(staircase(6, [1, 2, 3]))\n",
    "print(staircase(7, [1, 2, 4]))\n",
    "print(staircase(8, [1, 3, 5]))\n",
    "\n",
    "\n",
    "# stairs가 n, possible_steps의 길이가 m이라고 할 때, staircase() 함수는 n에 비례하는 반복문 안에 m에 비례하는 반복문 하나가 있기때문에 이 함수의 시간 복잡도는 O(mn)입니다."
   ]
  }
 ],
 "metadata": {
  "kernelspec": {
   "display_name": "base",
   "language": "python",
   "name": "python3"
  },
  "language_info": {
   "codemirror_mode": {
    "name": "ipython",
    "version": 3
   },
   "file_extension": ".py",
   "mimetype": "text/x-python",
   "name": "python",
   "nbconvert_exporter": "python",
   "pygments_lexer": "ipython3",
   "version": "3.9.13"
  },
  "orig_nbformat": 4
 },
 "nbformat": 4,
 "nbformat_minor": 2
}
